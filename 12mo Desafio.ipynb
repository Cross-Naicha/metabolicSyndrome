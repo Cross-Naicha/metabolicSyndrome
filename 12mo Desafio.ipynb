{
 "cells": [
  {
   "cell_type": "markdown",
   "metadata": {},
   "source": [
    "## 12mo Desafío: `Daruich`, Nicolas Alberto\n",
    "----"
   ]
  },
  {
   "cell_type": "markdown",
   "metadata": {},
   "source": [
    "# Librerias"
   ]
  },
  {
   "cell_type": "code",
   "execution_count": 2,
   "metadata": {},
   "outputs": [],
   "source": [
    "import re\n",
    "import pickle\n",
    "import numpy as np\n",
    "import pandas as pd\n",
    "\n",
    "import matplotlib.pyplot as plt\n",
    "\n",
    "from scipy import stats\n",
    "from sklearn.impute import SimpleImputer"
   ]
  },
  {
   "cell_type": "markdown",
   "metadata": {},
   "source": [
    "----\n",
    "# Data Wrangling "
   ]
  },
  {
   "cell_type": "markdown",
   "metadata": {},
   "source": [
    "----\n",
    "### Funciones"
   ]
  },
  {
   "cell_type": "code",
   "execution_count": 3,
   "metadata": {},
   "outputs": [],
   "source": [
    "# Funcion: Structural Information\n",
    "def structural_information(dataframe):\n",
    "\n",
    "    ''' Indica la cantidad de filas, columnas y valores nulos. A estos ultimos ademas\n",
    "    los agrupa segun la columna del que forman parte, y el porcentaje que representan del total.\n",
    "    Tambien informa sobre la presencia de filas duplicadas.\n",
    "    \n",
    "    Parameters:\n",
    "    - dataframe: DataFrame que se va a analizar. '''\n",
    "    \n",
    "    # Calcula la cantidad de valores nulos por columna\n",
    "    dataframe_na = dataframe.isna().sum()\n",
    "    \n",
    "    # Calcula la cantidad total de valores nulos en el DataFrame\n",
    "    na_values = dataframe_na.sum()\n",
    "    \n",
    "    # Obtiene el número de filas y columnas del DataFrame\n",
    "    rows, columns = dataframe.shape\n",
    "\n",
    "    # Contar el número de filas con algún valor nulo\n",
    "    rows_with_na = dataframe.isnull().any(axis=1).sum()\n",
    "\n",
    "    # Obtiene el numero de filas duplicadas\n",
    "    dataframe_duplicated = dataframe.duplicated().sum()\n",
    "    \n",
    "    # Imprime el análisis general de la estrucdutura del DataFrame\n",
    "    print(\"Analisis Rapido de la Estructura del DF\")\n",
    "    print(f\"\\nFilas: {rows}. Columnas: {columns}.\")\n",
    "    print(f\"\\nValores Nulos: {na_values} / {rows * columns} ({na_values / (rows * columns):.3f}).\")\n",
    "    \n",
    "    # Imprime la cantidad de valores nulos, el porcentaje respecto al total de filas, y agrupa los según la columna perteneciente\n",
    "    for attribute, n in dataframe_na.items():\n",
    "        if n > 0: print(f\"  - {attribute.upper()}: {n} ({(n / rows):.3f}).\")\n",
    "\n",
    "    print(f\" Filas con algun (any) dato nulo: {rows_with_na} ({(rows_with_na / rows):.2f})\")\n",
    "    print(f\"\\nValores Duplicados: {dataframe_duplicated}\")"
   ]
  },
  {
   "cell_type": "code",
   "execution_count": 4,
   "metadata": {},
   "outputs": [],
   "source": [
    "# Funcion: Codification\n",
    "def codification(dataframe, column):\n",
    "\n",
    "    ''' Esta función realiza la codificación de una columna categórica en un DataFrame.\n",
    "\n",
    "    Parameters:\n",
    "    - dataframe: DataFrame que contiene la columna a codificar.\n",
    "    - column: Nombre de la columna que se va a codificar.\n",
    "\n",
    "    Output:\n",
    "    - ref_table: Diccionario que contiene la relación entre los valores originales y sus códigos.\n",
    "    - dataframe[column]: Serie de la columna codificada en el DataFrame original. '''\n",
    "    \n",
    "    # Obtiene los valores únicos de la columna, excluyendo los valores nulos\n",
    "    labels = dataframe[column].dropna().unique()\n",
    "\n",
    "    # Crea un diccionario de codificación, asignando un código único a cada valor único\n",
    "    coding = {label: code for code, label in enumerate(labels)}\n",
    "\n",
    "    # Aplica la codificación a la columna del DataFrame\n",
    "    dataframe[column] = dataframe[column].apply(lambda row: str(coding[row]) if pd.notna(row) else row)\n",
    "\n",
    "    # Crea una tabla de referencia que relaciona los códigos y los valores originales\n",
    "    ref_table = {f'{column}': [value for value in coding.values()], f'{column}_label': [key for key in coding.keys()]}\n",
    "\n",
    "    # Devuelve la tabla de referencia y la columna codificada del DataFrame original\n",
    "    return ref_table, dataframe[column]"
   ]
  },
  {
   "cell_type": "code",
   "execution_count": 5,
   "metadata": {},
   "outputs": [],
   "source": [
    "# Funcion: Outliers\n",
    "def outliers(dataframe, columns, q1=0.25, q3=0.75):\n",
    "\n",
    "    ''' Esta función identifica y filtra los outliers en un DataFrame basándose en los cuartiles.\n",
    "\n",
    "    Parameters:\n",
    "    - dataframe: DataFrame que se va a analizar y filtrar.\n",
    "    - columns: Lista de columnas en las que se identificarán los outliers.\n",
    "    - q1: Cuartil inferior para el rango intercuartílico (por defecto 0.25).\n",
    "    - q3: Cuartil superior para el rango intercuartílico (por defecto 0.75).\n",
    "\n",
    "    Output:\n",
    "    - dataframe_no_outliers: DataFrame resultante después de filtrar los outliers.\n",
    "    - dataframe_outliers: DataFrame que contiene solo las filas con al menos un outlier. '''\n",
    "    \n",
    "    # Definiendo los cuartiles\n",
    "    q1 = dataframe[columns].quantile(q1)\n",
    "    q3 = dataframe[columns].quantile(q3)\n",
    "    iqr = q3 - q1\n",
    "\n",
    "    # Creando una mascara para outliers\n",
    "    mask_outliers = ((dataframe[columns] < (q1 - 1.5 * iqr)) | (dataframe[columns] > (q3 + 1.5 * iqr)))\n",
    "\n",
    "    # Reconociendo filas que tengan al menos un (any) outlier\n",
    "    mask_outliers = mask_outliers.any(axis=1)\n",
    "\n",
    "    # Filtrando outliers\n",
    "    return dataframe[~mask_outliers], dataframe[mask_outliers]"
   ]
  },
  {
   "cell_type": "code",
   "execution_count": 6,
   "metadata": {},
   "outputs": [],
   "source": [
    "# Funcion: Custom Describe\n",
    "def custom_describe(dataframe, attributes):\n",
    "\n",
    "    '''\n",
    "    Esta función proporciona estadísticas descriptivas personalizadas para un conjunto específico de atributos en un DataFrame.\n",
    "\n",
    "    Parameters:\n",
    "    - dataframe: DataFrame para el cual se calcularán las estadísticas descriptivas.\n",
    "    - attributes: Lista de atributos (columnas) para los cuales se calcularán las estadísticas.\n",
    "\n",
    "    Output:\n",
    "    - DataFrame con estadísticas descriptivas para los atributos seleccionados, redondeadas a dos decimales.\n",
    "\n",
    "    '''\n",
    "\n",
    "    return dataframe.describe().loc[attributes].round(2)"
   ]
  },
  {
   "cell_type": "markdown",
   "metadata": {},
   "source": [
    "----\n",
    "### Parte 1: Carga, lectura y analisis rapido de la estructura"
   ]
  },
  {
   "cell_type": "code",
   "execution_count": 7,
   "metadata": {},
   "outputs": [],
   "source": [
    "# Creando el DF principal\n",
    "df_main = pd.read_csv('metabolicSyndrome.csv')"
   ]
  },
  {
   "cell_type": "markdown",
   "metadata": {},
   "source": [
    "----"
   ]
  },
  {
   "cell_type": "code",
   "execution_count": 8,
   "metadata": {},
   "outputs": [
    {
     "name": "stdout",
     "output_type": "stream",
     "text": [
      "Analisis Rapido de la Estructura del DF\n",
      "\n",
      "Filas: 2401. Columnas: 15.\n",
      "\n",
      "Valores Nulos: 436 / 36015 (0.012).\n",
      "  - MARITAL: 208 (0.087).\n",
      "  - INCOME: 117 (0.049).\n",
      "  - WAISTCIRC: 85 (0.035).\n",
      "  - BMI: 26 (0.011).\n",
      " Filas con algun (any) dato nulo: 392 (0.16)\n",
      "\n",
      "Valores Duplicados: 0\n"
     ]
    }
   ],
   "source": [
    "# Informacion estructural\n",
    "structural_information(df_main)"
   ]
  },
  {
   "cell_type": "code",
   "execution_count": 9,
   "metadata": {},
   "outputs": [
    {
     "name": "stdout",
     "output_type": "stream",
     "text": [
      "<class 'pandas.core.frame.DataFrame'>\n",
      "RangeIndex: 2401 entries, 0 to 2400\n",
      "Data columns (total 15 columns):\n",
      " #   Column             Non-Null Count  Dtype  \n",
      "---  ------             --------------  -----  \n",
      " 0   seqn               2401 non-null   int64  \n",
      " 1   Age                2401 non-null   int64  \n",
      " 2   Sex                2401 non-null   object \n",
      " 3   Marital            2193 non-null   object \n",
      " 4   Income             2284 non-null   float64\n",
      " 5   Race               2401 non-null   object \n",
      " 6   WaistCirc          2316 non-null   float64\n",
      " 7   BMI                2375 non-null   float64\n",
      " 8   Albuminuria        2401 non-null   int64  \n",
      " 9   UrAlbCr            2401 non-null   float64\n",
      " 10  UricAcid           2401 non-null   float64\n",
      " 11  BloodGlucose       2401 non-null   int64  \n",
      " 12  HDL                2401 non-null   int64  \n",
      " 13  Triglycerides      2401 non-null   int64  \n",
      " 14  MetabolicSyndrome  2401 non-null   int64  \n",
      "dtypes: float64(5), int64(7), object(3)\n",
      "memory usage: 281.5+ KB\n"
     ]
    }
   ],
   "source": [
    "df_main.info()"
   ]
  },
  {
   "cell_type": "code",
   "execution_count": 10,
   "metadata": {},
   "outputs": [
    {
     "data": {
      "text/html": [
       "<div>\n",
       "<style scoped>\n",
       "    .dataframe tbody tr th:only-of-type {\n",
       "        vertical-align: middle;\n",
       "    }\n",
       "\n",
       "    .dataframe tbody tr th {\n",
       "        vertical-align: top;\n",
       "    }\n",
       "\n",
       "    .dataframe thead th {\n",
       "        text-align: right;\n",
       "    }\n",
       "</style>\n",
       "<table border=\"1\" class=\"dataframe\">\n",
       "  <thead>\n",
       "    <tr style=\"text-align: right;\">\n",
       "      <th></th>\n",
       "      <th>seqn</th>\n",
       "      <th>Age</th>\n",
       "      <th>Sex</th>\n",
       "      <th>Marital</th>\n",
       "      <th>Income</th>\n",
       "      <th>Race</th>\n",
       "      <th>WaistCirc</th>\n",
       "      <th>BMI</th>\n",
       "      <th>Albuminuria</th>\n",
       "      <th>UrAlbCr</th>\n",
       "      <th>UricAcid</th>\n",
       "      <th>BloodGlucose</th>\n",
       "      <th>HDL</th>\n",
       "      <th>Triglycerides</th>\n",
       "      <th>MetabolicSyndrome</th>\n",
       "    </tr>\n",
       "  </thead>\n",
       "  <tbody>\n",
       "    <tr>\n",
       "      <th>0</th>\n",
       "      <td>62161</td>\n",
       "      <td>22</td>\n",
       "      <td>Male</td>\n",
       "      <td>Single</td>\n",
       "      <td>8200.0</td>\n",
       "      <td>White</td>\n",
       "      <td>81.0</td>\n",
       "      <td>23.3</td>\n",
       "      <td>0</td>\n",
       "      <td>3.88</td>\n",
       "      <td>4.9</td>\n",
       "      <td>92</td>\n",
       "      <td>41</td>\n",
       "      <td>84</td>\n",
       "      <td>0</td>\n",
       "    </tr>\n",
       "    <tr>\n",
       "      <th>1</th>\n",
       "      <td>62164</td>\n",
       "      <td>44</td>\n",
       "      <td>Female</td>\n",
       "      <td>Married</td>\n",
       "      <td>4500.0</td>\n",
       "      <td>White</td>\n",
       "      <td>80.1</td>\n",
       "      <td>23.2</td>\n",
       "      <td>0</td>\n",
       "      <td>8.55</td>\n",
       "      <td>4.5</td>\n",
       "      <td>82</td>\n",
       "      <td>28</td>\n",
       "      <td>56</td>\n",
       "      <td>0</td>\n",
       "    </tr>\n",
       "    <tr>\n",
       "      <th>2</th>\n",
       "      <td>62169</td>\n",
       "      <td>21</td>\n",
       "      <td>Male</td>\n",
       "      <td>Single</td>\n",
       "      <td>800.0</td>\n",
       "      <td>Asian</td>\n",
       "      <td>69.6</td>\n",
       "      <td>20.1</td>\n",
       "      <td>0</td>\n",
       "      <td>5.07</td>\n",
       "      <td>5.4</td>\n",
       "      <td>107</td>\n",
       "      <td>43</td>\n",
       "      <td>78</td>\n",
       "      <td>0</td>\n",
       "    </tr>\n",
       "    <tr>\n",
       "      <th>3</th>\n",
       "      <td>62172</td>\n",
       "      <td>43</td>\n",
       "      <td>Female</td>\n",
       "      <td>Single</td>\n",
       "      <td>2000.0</td>\n",
       "      <td>Black</td>\n",
       "      <td>120.4</td>\n",
       "      <td>33.3</td>\n",
       "      <td>0</td>\n",
       "      <td>5.22</td>\n",
       "      <td>5.0</td>\n",
       "      <td>104</td>\n",
       "      <td>73</td>\n",
       "      <td>141</td>\n",
       "      <td>0</td>\n",
       "    </tr>\n",
       "    <tr>\n",
       "      <th>4</th>\n",
       "      <td>62177</td>\n",
       "      <td>51</td>\n",
       "      <td>Male</td>\n",
       "      <td>Married</td>\n",
       "      <td>NaN</td>\n",
       "      <td>Asian</td>\n",
       "      <td>81.1</td>\n",
       "      <td>20.1</td>\n",
       "      <td>0</td>\n",
       "      <td>8.13</td>\n",
       "      <td>5.0</td>\n",
       "      <td>95</td>\n",
       "      <td>43</td>\n",
       "      <td>126</td>\n",
       "      <td>0</td>\n",
       "    </tr>\n",
       "  </tbody>\n",
       "</table>\n",
       "</div>"
      ],
      "text/plain": [
       "    seqn  Age     Sex  Marital  Income   Race  WaistCirc   BMI  Albuminuria  \\\n",
       "0  62161   22    Male   Single  8200.0  White       81.0  23.3            0   \n",
       "1  62164   44  Female  Married  4500.0  White       80.1  23.2            0   \n",
       "2  62169   21    Male   Single   800.0  Asian       69.6  20.1            0   \n",
       "3  62172   43  Female   Single  2000.0  Black      120.4  33.3            0   \n",
       "4  62177   51    Male  Married     NaN  Asian       81.1  20.1            0   \n",
       "\n",
       "   UrAlbCr  UricAcid  BloodGlucose  HDL  Triglycerides  MetabolicSyndrome  \n",
       "0     3.88       4.9            92   41             84                  0  \n",
       "1     8.55       4.5            82   28             56                  0  \n",
       "2     5.07       5.4           107   43             78                  0  \n",
       "3     5.22       5.0           104   73            141                  0  \n",
       "4     8.13       5.0            95   43            126                  0  "
      ]
     },
     "execution_count": 10,
     "metadata": {},
     "output_type": "execute_result"
    }
   ],
   "source": [
    "# Copiando el dataframe original\n",
    "raw_df = df_main.copy()\n",
    "\n",
    "# Vista previa (Primeras filas)\n",
    "df_main.head()"
   ]
  },
  {
   "cell_type": "markdown",
   "metadata": {},
   "source": [
    "La columna \"seqn\" indica el codigo asignado por la entidad que recogio la informacion a cada observacion. Dado que es irrelevante, se procedera a eliminarla."
   ]
  },
  {
   "cell_type": "code",
   "execution_count": 11,
   "metadata": {},
   "outputs": [],
   "source": [
    "# Eliminando las columna 'seqn': \n",
    "df_main.drop(labels='seqn', axis='columns', inplace=True)\n",
    "\n",
    "# Agregando un indice sencillo\n",
    "df_main.reset_index(inplace=True)\n",
    "df_main['index'] = df_main['index'].astype(int)"
   ]
  },
  {
   "cell_type": "markdown",
   "metadata": {},
   "source": [
    "----"
   ]
  },
  {
   "cell_type": "markdown",
   "metadata": {},
   "source": [
    "### Parte 2: Describiendo, adecuando y codificando las variables de interes\n",
    "- `Age` (Edad): Variable numérica que representa la edad de los individuos en el estudio.\n",
    "- `Sex` (Sexo): Variable categórica que indica el género del individuo (por ejemplo, masculino o femenino).\n",
    "- `Marital` (Estado Civil): Variable categórica que describe el estado civil de los participantes (soltero, casado, divorciado, etc.).\n",
    "- `Income` (Ingresos): Variable numérica que representa el nivel de ingresos de los participantes.\n",
    "- `Race` (Etnia): Variable categórica que indica la etnia de los participantes.\n",
    "- `WaistCirc` (Circunferencia de la Cintura): Variable numérica que mide la circunferencia de la cintura.\n",
    "- `BMI` (Índice de Masa Corporal): Variable numérica que calcula el índice de masa corporal.\n",
    "- `Albuminuria` (Albuminuria): Variable que indica la presencia de proteínas en la orina, lo cual puede ser un marcador de daño renal.\n",
    "- `UricAcid` (Ácido Úrico): Variable numérica que indica los niveles de ácido úrico en la sangre. Altos niveles pueden estar asociados con ciertos riesgos metabólicos.\n",
    "- `BloodGlucose` (Glucosa en Sangre): Variable numérica que representa los niveles de glucosa en la sangre.\n",
    "- `HDL` (Colesterol de Alta Densidad): Variable numérica que indica los niveles de colesterol HDL, también conocido como \"colesterol bueno\".\n",
    "- `Triglycerides` (Triglicéridos): Variable numérica que indica los niveles de triglicéridos en la sangre, un factor de riesgo cardiovascular.\n",
    "- `MetabolicSyndrome` (Síndrome Metabólico): Variable binaria que indica la presencia o ausencia del síndrome metabólico. Es la variable objetivo para la predicción en tu modelo."
   ]
  },
  {
   "cell_type": "code",
   "execution_count": 12,
   "metadata": {},
   "outputs": [],
   "source": [
    "# Adecuando el nombre de las columnas\n",
    "df_main.columns = \"index edad sexo civil ingresos raza abdomen imc albuminuria albumina_creatinina uricemia glucemia hdl trigliceridemia metabolico\".split()"
   ]
  },
  {
   "cell_type": "code",
   "execution_count": 13,
   "metadata": {},
   "outputs": [],
   "source": [
    "# Codificando las dimensiones cualitativas y creando las tablas de referencia correspondientes\n",
    "ref_tables = dict()\n",
    "for column in ['sexo', 'civil', 'raza']:\n",
    "    \n",
    "    ref_table, codificated_df = codification(df_main, column)\n",
    "    \n",
    "    # Ejecutando el proceso de codificacion\n",
    "    df_main[column] = codificated_df\n",
    "\n",
    "    # Creando la tabla de referencia especifica y guardandola en 'ref_tables'\n",
    "    dataframe = pd.DataFrame(ref_table)\n",
    "    dataframe.set_index(dataframe.columns[0], inplace=True)\n",
    "    \n",
    "    current_table = {column: dataframe}\n",
    "    ref_tables.update(current_table)"
   ]
  },
  {
   "cell_type": "code",
   "execution_count": 14,
   "metadata": {},
   "outputs": [
    {
     "data": {
      "text/html": [
       "<div>\n",
       "<style scoped>\n",
       "    .dataframe tbody tr th:only-of-type {\n",
       "        vertical-align: middle;\n",
       "    }\n",
       "\n",
       "    .dataframe tbody tr th {\n",
       "        vertical-align: top;\n",
       "    }\n",
       "\n",
       "    .dataframe thead th {\n",
       "        text-align: right;\n",
       "    }\n",
       "</style>\n",
       "<table border=\"1\" class=\"dataframe\">\n",
       "  <thead>\n",
       "    <tr style=\"text-align: right;\">\n",
       "      <th></th>\n",
       "      <th>civil_label</th>\n",
       "    </tr>\n",
       "    <tr>\n",
       "      <th>civil</th>\n",
       "      <th></th>\n",
       "    </tr>\n",
       "  </thead>\n",
       "  <tbody>\n",
       "    <tr>\n",
       "      <th>0</th>\n",
       "      <td>Single</td>\n",
       "    </tr>\n",
       "    <tr>\n",
       "      <th>1</th>\n",
       "      <td>Married</td>\n",
       "    </tr>\n",
       "    <tr>\n",
       "      <th>2</th>\n",
       "      <td>Widowed</td>\n",
       "    </tr>\n",
       "    <tr>\n",
       "      <th>3</th>\n",
       "      <td>Divorced</td>\n",
       "    </tr>\n",
       "    <tr>\n",
       "      <th>4</th>\n",
       "      <td>Separated</td>\n",
       "    </tr>\n",
       "  </tbody>\n",
       "</table>\n",
       "</div>"
      ],
      "text/plain": [
       "      civil_label\n",
       "civil            \n",
       "0          Single\n",
       "1         Married\n",
       "2         Widowed\n",
       "3        Divorced\n",
       "4       Separated"
      ]
     },
     "execution_count": 14,
     "metadata": {},
     "output_type": "execute_result"
    }
   ],
   "source": [
    "# Tabla de Referencia: Civil\n",
    "ref_tables['civil']"
   ]
  },
  {
   "cell_type": "code",
   "execution_count": 15,
   "metadata": {},
   "outputs": [
    {
     "data": {
      "text/html": [
       "<div>\n",
       "<style scoped>\n",
       "    .dataframe tbody tr th:only-of-type {\n",
       "        vertical-align: middle;\n",
       "    }\n",
       "\n",
       "    .dataframe tbody tr th {\n",
       "        vertical-align: top;\n",
       "    }\n",
       "\n",
       "    .dataframe thead th {\n",
       "        text-align: right;\n",
       "    }\n",
       "</style>\n",
       "<table border=\"1\" class=\"dataframe\">\n",
       "  <thead>\n",
       "    <tr style=\"text-align: right;\">\n",
       "      <th></th>\n",
       "      <th>raza_label</th>\n",
       "    </tr>\n",
       "    <tr>\n",
       "      <th>raza</th>\n",
       "      <th></th>\n",
       "    </tr>\n",
       "  </thead>\n",
       "  <tbody>\n",
       "    <tr>\n",
       "      <th>0</th>\n",
       "      <td>White</td>\n",
       "    </tr>\n",
       "    <tr>\n",
       "      <th>1</th>\n",
       "      <td>Asian</td>\n",
       "    </tr>\n",
       "    <tr>\n",
       "      <th>2</th>\n",
       "      <td>Black</td>\n",
       "    </tr>\n",
       "    <tr>\n",
       "      <th>3</th>\n",
       "      <td>MexAmerican</td>\n",
       "    </tr>\n",
       "    <tr>\n",
       "      <th>4</th>\n",
       "      <td>Hispanic</td>\n",
       "    </tr>\n",
       "    <tr>\n",
       "      <th>5</th>\n",
       "      <td>Other</td>\n",
       "    </tr>\n",
       "  </tbody>\n",
       "</table>\n",
       "</div>"
      ],
      "text/plain": [
       "       raza_label\n",
       "raza             \n",
       "0           White\n",
       "1           Asian\n",
       "2           Black\n",
       "3     MexAmerican\n",
       "4        Hispanic\n",
       "5           Other"
      ]
     },
     "execution_count": 15,
     "metadata": {},
     "output_type": "execute_result"
    }
   ],
   "source": [
    "# Tabla de Referencia: Raza\n",
    "ref_tables['raza']"
   ]
  },
  {
   "cell_type": "code",
   "execution_count": 16,
   "metadata": {},
   "outputs": [
    {
     "data": {
      "text/html": [
       "<div>\n",
       "<style scoped>\n",
       "    .dataframe tbody tr th:only-of-type {\n",
       "        vertical-align: middle;\n",
       "    }\n",
       "\n",
       "    .dataframe tbody tr th {\n",
       "        vertical-align: top;\n",
       "    }\n",
       "\n",
       "    .dataframe thead th {\n",
       "        text-align: right;\n",
       "    }\n",
       "</style>\n",
       "<table border=\"1\" class=\"dataframe\">\n",
       "  <thead>\n",
       "    <tr style=\"text-align: right;\">\n",
       "      <th></th>\n",
       "      <th>sexo_label</th>\n",
       "    </tr>\n",
       "    <tr>\n",
       "      <th>sexo</th>\n",
       "      <th></th>\n",
       "    </tr>\n",
       "  </thead>\n",
       "  <tbody>\n",
       "    <tr>\n",
       "      <th>0</th>\n",
       "      <td>Male</td>\n",
       "    </tr>\n",
       "    <tr>\n",
       "      <th>1</th>\n",
       "      <td>Female</td>\n",
       "    </tr>\n",
       "  </tbody>\n",
       "</table>\n",
       "</div>"
      ],
      "text/plain": [
       "     sexo_label\n",
       "sexo           \n",
       "0          Male\n",
       "1        Female"
      ]
     },
     "execution_count": 16,
     "metadata": {},
     "output_type": "execute_result"
    }
   ],
   "source": [
    "# Tabla de Referencia: Sexo\n",
    "ref_tables['sexo']"
   ]
  },
  {
   "cell_type": "markdown",
   "metadata": {},
   "source": [
    "----\n",
    "### Parte 3: Tratamiento de valores Extremos (Outliers)"
   ]
  },
  {
   "cell_type": "code",
   "execution_count": 17,
   "metadata": {},
   "outputs": [
    {
     "data": {
      "text/html": [
       "<div>\n",
       "<style scoped>\n",
       "    .dataframe tbody tr th:only-of-type {\n",
       "        vertical-align: middle;\n",
       "    }\n",
       "\n",
       "    .dataframe tbody tr th {\n",
       "        vertical-align: top;\n",
       "    }\n",
       "\n",
       "    .dataframe thead th {\n",
       "        text-align: right;\n",
       "    }\n",
       "</style>\n",
       "<table border=\"1\" class=\"dataframe\">\n",
       "  <thead>\n",
       "    <tr style=\"text-align: right;\">\n",
       "      <th></th>\n",
       "      <th>edad</th>\n",
       "      <th>ingresos</th>\n",
       "      <th>abdomen</th>\n",
       "      <th>imc</th>\n",
       "      <th>albuminuria</th>\n",
       "      <th>albumina_creatinina</th>\n",
       "      <th>uricemia</th>\n",
       "      <th>glucemia</th>\n",
       "      <th>hdl</th>\n",
       "      <th>trigliceridemia</th>\n",
       "      <th>metabolico</th>\n",
       "    </tr>\n",
       "  </thead>\n",
       "  <tbody>\n",
       "    <tr>\n",
       "      <th>count</th>\n",
       "      <td>2401.00</td>\n",
       "      <td>2284.00</td>\n",
       "      <td>2316.00</td>\n",
       "      <td>2375.00</td>\n",
       "      <td>2401.00</td>\n",
       "      <td>2401.00</td>\n",
       "      <td>2401.00</td>\n",
       "      <td>2401.00</td>\n",
       "      <td>2401.00</td>\n",
       "      <td>2401.00</td>\n",
       "      <td>2401.00</td>\n",
       "    </tr>\n",
       "    <tr>\n",
       "      <th>mean</th>\n",
       "      <td>48.69</td>\n",
       "      <td>4005.25</td>\n",
       "      <td>98.31</td>\n",
       "      <td>28.70</td>\n",
       "      <td>0.15</td>\n",
       "      <td>43.63</td>\n",
       "      <td>5.49</td>\n",
       "      <td>108.25</td>\n",
       "      <td>53.37</td>\n",
       "      <td>128.13</td>\n",
       "      <td>0.34</td>\n",
       "    </tr>\n",
       "    <tr>\n",
       "      <th>50%</th>\n",
       "      <td>48.00</td>\n",
       "      <td>2500.00</td>\n",
       "      <td>97.00</td>\n",
       "      <td>27.70</td>\n",
       "      <td>0.00</td>\n",
       "      <td>7.07</td>\n",
       "      <td>5.40</td>\n",
       "      <td>99.00</td>\n",
       "      <td>51.00</td>\n",
       "      <td>103.00</td>\n",
       "      <td>0.00</td>\n",
       "    </tr>\n",
       "    <tr>\n",
       "      <th>std</th>\n",
       "      <td>17.63</td>\n",
       "      <td>2954.03</td>\n",
       "      <td>16.25</td>\n",
       "      <td>6.66</td>\n",
       "      <td>0.42</td>\n",
       "      <td>258.27</td>\n",
       "      <td>1.44</td>\n",
       "      <td>34.82</td>\n",
       "      <td>15.19</td>\n",
       "      <td>95.32</td>\n",
       "      <td>0.47</td>\n",
       "    </tr>\n",
       "  </tbody>\n",
       "</table>\n",
       "</div>"
      ],
      "text/plain": [
       "          edad  ingresos  abdomen      imc  albuminuria  albumina_creatinina  \\\n",
       "count  2401.00   2284.00  2316.00  2375.00      2401.00              2401.00   \n",
       "mean     48.69   4005.25    98.31    28.70         0.15                43.63   \n",
       "50%      48.00   2500.00    97.00    27.70         0.00                 7.07   \n",
       "std      17.63   2954.03    16.25     6.66         0.42               258.27   \n",
       "\n",
       "       uricemia  glucemia      hdl  trigliceridemia  metabolico  \n",
       "count   2401.00   2401.00  2401.00          2401.00     2401.00  \n",
       "mean       5.49    108.25    53.37           128.13        0.34  \n",
       "50%        5.40     99.00    51.00           103.00        0.00  \n",
       "std        1.44     34.82    15.19            95.32        0.47  "
      ]
     },
     "execution_count": 17,
     "metadata": {},
     "output_type": "execute_result"
    }
   ],
   "source": [
    "# Estado del DataFrame: Antes de eliminar outliers\n",
    "custom_describe(df_main.iloc[:, 1:], ['count', 'mean', '50%', 'std'])"
   ]
  },
  {
   "cell_type": "code",
   "execution_count": 18,
   "metadata": {},
   "outputs": [],
   "source": [
    "# Evaluando outliers\n",
    "df_main, outliers_df = outliers(df_main, [\"abdomen\", \"imc\", \"albumina_creatinina\", \"uricemia\", \"glucemia\", \"hdl\", \"trigliceridemia\"])"
   ]
  },
  {
   "cell_type": "code",
   "execution_count": 19,
   "metadata": {},
   "outputs": [
    {
     "data": {
      "text/html": [
       "<div>\n",
       "<style scoped>\n",
       "    .dataframe tbody tr th:only-of-type {\n",
       "        vertical-align: middle;\n",
       "    }\n",
       "\n",
       "    .dataframe tbody tr th {\n",
       "        vertical-align: top;\n",
       "    }\n",
       "\n",
       "    .dataframe thead th {\n",
       "        text-align: right;\n",
       "    }\n",
       "</style>\n",
       "<table border=\"1\" class=\"dataframe\">\n",
       "  <thead>\n",
       "    <tr style=\"text-align: right;\">\n",
       "      <th></th>\n",
       "      <th>index</th>\n",
       "      <th>edad</th>\n",
       "      <th>ingresos</th>\n",
       "      <th>abdomen</th>\n",
       "      <th>imc</th>\n",
       "      <th>albuminuria</th>\n",
       "      <th>albumina_creatinina</th>\n",
       "      <th>uricemia</th>\n",
       "      <th>glucemia</th>\n",
       "      <th>hdl</th>\n",
       "      <th>trigliceridemia</th>\n",
       "      <th>metabolico</th>\n",
       "    </tr>\n",
       "  </thead>\n",
       "  <tbody>\n",
       "    <tr>\n",
       "      <th>count</th>\n",
       "      <td>1726.00</td>\n",
       "      <td>1726.00</td>\n",
       "      <td>1647.00</td>\n",
       "      <td>1681.00</td>\n",
       "      <td>1711.00</td>\n",
       "      <td>1726.0</td>\n",
       "      <td>1726.00</td>\n",
       "      <td>1726.00</td>\n",
       "      <td>1726.00</td>\n",
       "      <td>1726.00</td>\n",
       "      <td>1726.00</td>\n",
       "      <td>1726.00</td>\n",
       "    </tr>\n",
       "    <tr>\n",
       "      <th>mean</th>\n",
       "      <td>1207.06</td>\n",
       "      <td>46.25</td>\n",
       "      <td>4198.06</td>\n",
       "      <td>95.47</td>\n",
       "      <td>27.65</td>\n",
       "      <td>0.0</td>\n",
       "      <td>7.68</td>\n",
       "      <td>5.30</td>\n",
       "      <td>98.58</td>\n",
       "      <td>54.10</td>\n",
       "      <td>105.91</td>\n",
       "      <td>0.24</td>\n",
       "    </tr>\n",
       "    <tr>\n",
       "      <th>50%</th>\n",
       "      <td>1209.50</td>\n",
       "      <td>45.00</td>\n",
       "      <td>3500.00</td>\n",
       "      <td>95.10</td>\n",
       "      <td>27.10</td>\n",
       "      <td>0.0</td>\n",
       "      <td>6.00</td>\n",
       "      <td>5.20</td>\n",
       "      <td>97.00</td>\n",
       "      <td>52.00</td>\n",
       "      <td>95.00</td>\n",
       "      <td>0.00</td>\n",
       "    </tr>\n",
       "    <tr>\n",
       "      <th>std</th>\n",
       "      <td>691.50</td>\n",
       "      <td>17.09</td>\n",
       "      <td>2989.05</td>\n",
       "      <td>13.87</td>\n",
       "      <td>5.38</td>\n",
       "      <td>0.0</td>\n",
       "      <td>5.24</td>\n",
       "      <td>1.32</td>\n",
       "      <td>11.27</td>\n",
       "      <td>12.84</td>\n",
       "      <td>46.93</td>\n",
       "      <td>0.43</td>\n",
       "    </tr>\n",
       "  </tbody>\n",
       "</table>\n",
       "</div>"
      ],
      "text/plain": [
       "         index     edad  ingresos  abdomen      imc  albuminuria  \\\n",
       "count  1726.00  1726.00   1647.00  1681.00  1711.00       1726.0   \n",
       "mean   1207.06    46.25   4198.06    95.47    27.65          0.0   \n",
       "50%    1209.50    45.00   3500.00    95.10    27.10          0.0   \n",
       "std     691.50    17.09   2989.05    13.87     5.38          0.0   \n",
       "\n",
       "       albumina_creatinina  uricemia  glucemia      hdl  trigliceridemia  \\\n",
       "count              1726.00   1726.00   1726.00  1726.00          1726.00   \n",
       "mean                  7.68      5.30     98.58    54.10           105.91   \n",
       "50%                   6.00      5.20     97.00    52.00            95.00   \n",
       "std                   5.24      1.32     11.27    12.84            46.93   \n",
       "\n",
       "       metabolico  \n",
       "count     1726.00  \n",
       "mean         0.24  \n",
       "50%          0.00  \n",
       "std          0.43  "
      ]
     },
     "execution_count": 19,
     "metadata": {},
     "output_type": "execute_result"
    }
   ],
   "source": [
    "# Estado del DataFrame: Despues de eliminar outliers\n",
    "custom_describe(df_main, ['count', 'mean', '50%', 'std'])"
   ]
  },
  {
   "cell_type": "code",
   "execution_count": 20,
   "metadata": {},
   "outputs": [
    {
     "data": {
      "text/plain": [
       "array([0], dtype=int64)"
      ]
     },
     "execution_count": 20,
     "metadata": {},
     "output_type": "execute_result"
    }
   ],
   "source": [
    "# Valores unicos para \"Albuminuria\"\n",
    "df_main['albuminuria'].unique()"
   ]
  },
  {
   "cell_type": "markdown",
   "metadata": {},
   "source": [
    "Con la remocion de valores extremos, la columna *albuminuria* solo muestra 0 (negativo) en cada fila. Esto se debe a que columna *albumina_creatina* ya no contiene valores que determinen una albuminuria positiva. Por lo tanto, la columna en cuestion sera removida (no aporta informacion)."
   ]
  },
  {
   "cell_type": "code",
   "execution_count": 21,
   "metadata": {},
   "outputs": [],
   "source": [
    "# Eliminando la columna \"Albuminuria\"\n",
    "df_main.drop(\"albuminuria\", axis=1, inplace=True)"
   ]
  },
  {
   "cell_type": "markdown",
   "metadata": {},
   "source": [
    "----\n",
    "### Parte 4: Resolviendo los datos faltantes"
   ]
  },
  {
   "cell_type": "code",
   "execution_count": 22,
   "metadata": {},
   "outputs": [
    {
     "name": "stdout",
     "output_type": "stream",
     "text": [
      "Analisis Rapido de la Estructura del DF\n",
      "\n",
      "Filas: 1726. Columnas: 14.\n",
      "\n",
      "Valores Nulos: 293 / 24164 (0.012).\n",
      "  - CIVIL: 154 (0.089).\n",
      "  - INGRESOS: 79 (0.046).\n",
      "  - ABDOMEN: 45 (0.026).\n",
      "  - IMC: 15 (0.009).\n",
      " Filas con algun (any) dato nulo: 262 (0.15)\n",
      "\n",
      "Valores Duplicados: 0\n"
     ]
    }
   ],
   "source": [
    "# Analisis Estructural: Previo\n",
    "structural_information(df_main)"
   ]
  },
  {
   "cell_type": "markdown",
   "metadata": {},
   "source": [
    "Si bien los datos nulos representan una parte insignificante del DF (~ 1%), remover las filas de la cual forman parte no: esto implicaria una perdida del ~ 15%. Por lo tanto se resolveran los mismos mediante imputacion."
   ]
  },
  {
   "cell_type": "code",
   "execution_count": 23,
   "metadata": {},
   "outputs": [],
   "source": [
    "# TODO Quedo a la espera del avance del curso para conocer las formas de reconocer patrones de datos faltantes."
   ]
  },
  {
   "cell_type": "code",
   "execution_count": 24,
   "metadata": {},
   "outputs": [],
   "source": [
    "# Creando el objeto de imputacion: en este caso, la imputacion estara basada en el promedio\n",
    "imputer = SimpleImputer(strategy='mean')\n",
    "\n",
    "# Ajustar el imputador a los datos\n",
    "df_main = pd.DataFrame(imputer.fit_transform(df_main), columns=df_main.columns)"
   ]
  },
  {
   "cell_type": "code",
   "execution_count": 25,
   "metadata": {},
   "outputs": [
    {
     "name": "stdout",
     "output_type": "stream",
     "text": [
      "Analisis Rapido de la Estructura del DF\n",
      "\n",
      "Filas: 1726. Columnas: 14.\n",
      "\n",
      "Valores Nulos: 0 / 24164 (0.000).\n",
      " Filas con algun (any) dato nulo: 0 (0.00)\n",
      "\n",
      "Valores Duplicados: 0\n"
     ]
    }
   ],
   "source": [
    "# Analisis Estructural: Posterior\n",
    "structural_information(df_main)"
   ]
  },
  {
   "cell_type": "markdown",
   "metadata": {},
   "source": [
    "----\n",
    "### Parte 5: Creando dimensiones categoricas"
   ]
  },
  {
   "cell_type": "markdown",
   "metadata": {},
   "source": [
    "Se crearan dimensiones cualitativas para probar si el modelo responde mejor a estas, a las correspondientes cuantitativas o a una mezcla de ambas. Los criterios para determinarlas como positivas (1) se comenta en el siguiente bloque:"
   ]
  },
  {
   "cell_type": "code",
   "execution_count": 26,
   "metadata": {},
   "outputs": [],
   "source": [
    "# Definiendo funciones diagnosticas\n",
    "def peso(imc_value):\n",
    "    \n",
    "    ''' Basado en el indice de masa corporal (peso/altura^2):\n",
    "    IMC > 35.0 -> Obesidad Morbida = 4\n",
    "    IMC > 30.0 -> Obesidad = 3\n",
    "    IMC > 25.0 -> Sobrepeso = 2\n",
    "    IMC > 18.5 -> Normal = 1\n",
    "    IMC < 18.5 -> Bajo Peso = 0 '''\n",
    "    \n",
    "    return 4 if imc_value > 35 else (3 if imc_value > 30 else (2 if imc_value > 25 else (1 if imc_value > 18.5 else 0)))\n",
    "\n",
    "def circunferencia(sexo, abdomen):\n",
    "    \n",
    "    ''' Basado en los criterios ATP III (2003)*:\n",
    "    Perímetro abdominal > 102 cm en Hombres; > 88 cm en Mujeres '''\n",
    "    \n",
    "    sexo = int(sexo)\n",
    "    return 1 if ((sexo == 0) and (abdomen > 88)) or ((sexo == 1) and (abdomen > 102)) else 0\n",
    "\n",
    "def hiperuricemia(sexo, uricemia):\n",
    "\n",
    "    ''' Farreraz-Rosman Medicina Interna 19° Edicíon\n",
    "    Uricemia > 7 mg/dL en Hombres; > 6 mg/dL en Mujeres '''\n",
    "    \n",
    "    sexo = int(sexo)\n",
    "    return 1 if ((sexo == 0) and (uricemia > 6)) or ((sexo == 1) and (uricemia > 7)) else 0\n",
    "\n",
    "def hiperglucemia(glucemia):\n",
    "\n",
    "    ''' Basado en los criterios ATP III (2003)*:\n",
    "    Glucemia basal ≥ 100 mg/dL (5,6 mmol/L) '''\n",
    "\n",
    "    return 1 if glucemia > 100 else 0\n",
    "\n",
    "def dislipidemia(sexo, hdl):\n",
    "\n",
    "    ''' Basado en los criterios ATP III (2003)*:\n",
    "    HDL-c < 40 mg/dL en Hombres; < 50 mg/dL en Mujeres '''\n",
    "\n",
    "    sexo = int(sexo)\n",
    "    return 1 if ((sexo == 0) and (hdl < 50)) or ((sexo == 1) and (hdl < 40)) else 0\n",
    "\n",
    "def hipertrigliceridemia(trigliceridemia):\n",
    "    \n",
    "    ''' Basado en los criterios ATP III (2003)*:\n",
    "    Trigliceridemia ≥ 150 mg/dL '''\n",
    "        \n",
    "    return 1 if trigliceridemia > 150 else 0"
   ]
  },
  {
   "cell_type": "code",
   "execution_count": 27,
   "metadata": {},
   "outputs": [],
   "source": [
    "# Creando la Tabla Categorica\n",
    "df_categorical = pd.DataFrame()\n",
    "\n",
    "# Creando la columna Peso\n",
    "df_categorical['peso'] = df_main['imc'].apply(peso)\n",
    "\n",
    "# Creando la columna Circunferencia\n",
    "df_categorical['circunferencia'] = df_main.apply(lambda row: circunferencia(row['sexo'], row['abdomen']), axis=1)\n",
    "\n",
    "# Creando la columna Circunferencia\n",
    "df_categorical['hiperuricemia'] = df_main.apply(lambda row: hiperuricemia(row['sexo'], row['uricemia']), axis=1)\n",
    "\n",
    "# Creando la columna Hiperglucemia\n",
    "df_categorical['hiperglucemia'] = df_main['glucemia'].apply(hiperglucemia)\n",
    "\n",
    "# Creando la columna Dislipidemia\n",
    "df_categorical['dislipidemia'] = df_main.apply(lambda row: hiperuricemia(row['sexo'], row['hdl']), axis=1)\n",
    "\n",
    "# Creando la columna Hipertrigliceridemia\n",
    "df_categorical['hipertrigliceridemia'] = df_main['trigliceridemia'].apply(hiperglucemia)\n",
    "\n",
    "# Agregando un indice\n",
    "df_categorical.reset_index(inplace=True)\n",
    "df_categorical['index'] = df_categorical['index'].astype(int)"
   ]
  },
  {
   "cell_type": "code",
   "execution_count": 28,
   "metadata": {},
   "outputs": [
    {
     "data": {
      "text/html": [
       "<div>\n",
       "<style scoped>\n",
       "    .dataframe tbody tr th:only-of-type {\n",
       "        vertical-align: middle;\n",
       "    }\n",
       "\n",
       "    .dataframe tbody tr th {\n",
       "        vertical-align: top;\n",
       "    }\n",
       "\n",
       "    .dataframe thead th {\n",
       "        text-align: right;\n",
       "    }\n",
       "</style>\n",
       "<table border=\"1\" class=\"dataframe\">\n",
       "  <thead>\n",
       "    <tr style=\"text-align: right;\">\n",
       "      <th></th>\n",
       "      <th>index</th>\n",
       "      <th>peso</th>\n",
       "      <th>circunferencia</th>\n",
       "      <th>hiperuricemia</th>\n",
       "      <th>hiperglucemia</th>\n",
       "      <th>dislipidemia</th>\n",
       "      <th>hipertrigliceridemia</th>\n",
       "    </tr>\n",
       "  </thead>\n",
       "  <tbody>\n",
       "    <tr>\n",
       "      <th>0</th>\n",
       "      <td>0</td>\n",
       "      <td>1</td>\n",
       "      <td>0</td>\n",
       "      <td>0</td>\n",
       "      <td>0</td>\n",
       "      <td>1</td>\n",
       "      <td>0</td>\n",
       "    </tr>\n",
       "    <tr>\n",
       "      <th>1</th>\n",
       "      <td>1</td>\n",
       "      <td>1</td>\n",
       "      <td>0</td>\n",
       "      <td>0</td>\n",
       "      <td>0</td>\n",
       "      <td>1</td>\n",
       "      <td>0</td>\n",
       "    </tr>\n",
       "    <tr>\n",
       "      <th>2</th>\n",
       "      <td>2</td>\n",
       "      <td>1</td>\n",
       "      <td>0</td>\n",
       "      <td>0</td>\n",
       "      <td>1</td>\n",
       "      <td>1</td>\n",
       "      <td>0</td>\n",
       "    </tr>\n",
       "    <tr>\n",
       "      <th>3</th>\n",
       "      <td>3</td>\n",
       "      <td>3</td>\n",
       "      <td>1</td>\n",
       "      <td>0</td>\n",
       "      <td>1</td>\n",
       "      <td>1</td>\n",
       "      <td>1</td>\n",
       "    </tr>\n",
       "    <tr>\n",
       "      <th>4</th>\n",
       "      <td>4</td>\n",
       "      <td>1</td>\n",
       "      <td>0</td>\n",
       "      <td>0</td>\n",
       "      <td>0</td>\n",
       "      <td>1</td>\n",
       "      <td>1</td>\n",
       "    </tr>\n",
       "  </tbody>\n",
       "</table>\n",
       "</div>"
      ],
      "text/plain": [
       "   index  peso  circunferencia  hiperuricemia  hiperglucemia  dislipidemia  \\\n",
       "0      0     1               0              0              0             1   \n",
       "1      1     1               0              0              0             1   \n",
       "2      2     1               0              0              1             1   \n",
       "3      3     3               1              0              1             1   \n",
       "4      4     1               0              0              0             1   \n",
       "\n",
       "   hipertrigliceridemia  \n",
       "0                     0  \n",
       "1                     0  \n",
       "2                     0  \n",
       "3                     1  \n",
       "4                     1  "
      ]
     },
     "execution_count": 28,
     "metadata": {},
     "output_type": "execute_result"
    }
   ],
   "source": [
    "# Presentando la tabla categorica\n",
    "df_categorical.head()"
   ]
  },
  {
   "cell_type": "markdown",
   "metadata": {},
   "source": [
    "----\n",
    "### Parte 6: Adecuando el tipo de datos"
   ]
  },
  {
   "cell_type": "code",
   "execution_count": 29,
   "metadata": {},
   "outputs": [],
   "source": [
    "# Adecuando el tipo de datos\n",
    "def data_transformation(dataframe, columns, type):\n",
    "    for column in columns:\n",
    "        dataframe[column] = dataframe[column].astype(type)\n",
    "\n",
    "# df_categorical -> ALL CATEGORY\n",
    "data_transformation(df_categorical, df_categorical.columns, 'category')\n",
    "\n",
    "# df_main -> SOME INT (Para evitar que despues se guarden como categorias en formato flotante)\n",
    "data_transformation(df_main, ['edad', 'sexo', 'civil', 'raza', 'metabolico'], 'int')\n",
    "\n",
    "# df_main -> SOME CATEGORY\n",
    "data_transformation(df_main, ['sexo', 'civil', 'raza', 'metabolico'], 'category')"
   ]
  },
  {
   "cell_type": "code",
   "execution_count": 30,
   "metadata": {},
   "outputs": [],
   "source": [
    "# df_main -> To INT\n",
    "df_main['index'] = df_main['index'].astype(int)\n",
    "df_main['ingresos'] = df_main['ingresos'].astype(int)"
   ]
  },
  {
   "cell_type": "markdown",
   "metadata": {},
   "source": [
    "----\n",
    "----\n",
    "## Conclusion"
   ]
  },
  {
   "cell_type": "code",
   "execution_count": 31,
   "metadata": {},
   "outputs": [
    {
     "name": "stdout",
     "output_type": "stream",
     "text": [
      "<class 'pandas.core.frame.DataFrame'>\n",
      "RangeIndex: 1726 entries, 0 to 1725\n",
      "Data columns (total 14 columns):\n",
      " #   Column               Non-Null Count  Dtype   \n",
      "---  ------               --------------  -----   \n",
      " 0   index                1726 non-null   int32   \n",
      " 1   edad                 1726 non-null   int32   \n",
      " 2   sexo                 1726 non-null   category\n",
      " 3   civil                1726 non-null   category\n",
      " 4   ingresos             1726 non-null   int32   \n",
      " 5   raza                 1726 non-null   category\n",
      " 6   abdomen              1726 non-null   float64 \n",
      " 7   imc                  1726 non-null   float64 \n",
      " 8   albumina_creatinina  1726 non-null   float64 \n",
      " 9   uricemia             1726 non-null   float64 \n",
      " 10  glucemia             1726 non-null   float64 \n",
      " 11  hdl                  1726 non-null   float64 \n",
      " 12  trigliceridemia      1726 non-null   float64 \n",
      " 13  metabolico           1726 non-null   category\n",
      "dtypes: category(4), float64(7), int32(3)\n",
      "memory usage: 122.0 KB\n"
     ]
    }
   ],
   "source": [
    "df_main.info()"
   ]
  },
  {
   "cell_type": "markdown",
   "metadata": {},
   "source": [
    "## Tabla Completa"
   ]
  },
  {
   "cell_type": "code",
   "execution_count": 32,
   "metadata": {},
   "outputs": [],
   "source": [
    "# Finalmente\n",
    "df_full = pd.merge(df_main, df_categorical, on='index')\n",
    "df_full.set_index('index', inplace=True)"
   ]
  },
  {
   "cell_type": "code",
   "execution_count": 33,
   "metadata": {},
   "outputs": [
    {
     "data": {
      "text/html": [
       "<div>\n",
       "<style scoped>\n",
       "    .dataframe tbody tr th:only-of-type {\n",
       "        vertical-align: middle;\n",
       "    }\n",
       "\n",
       "    .dataframe tbody tr th {\n",
       "        vertical-align: top;\n",
       "    }\n",
       "\n",
       "    .dataframe thead th {\n",
       "        text-align: right;\n",
       "    }\n",
       "</style>\n",
       "<table border=\"1\" class=\"dataframe\">\n",
       "  <thead>\n",
       "    <tr style=\"text-align: right;\">\n",
       "      <th></th>\n",
       "      <th>edad</th>\n",
       "      <th>sexo</th>\n",
       "      <th>civil</th>\n",
       "      <th>ingresos</th>\n",
       "      <th>raza</th>\n",
       "      <th>abdomen</th>\n",
       "      <th>imc</th>\n",
       "      <th>albumina_creatinina</th>\n",
       "      <th>uricemia</th>\n",
       "      <th>glucemia</th>\n",
       "      <th>hdl</th>\n",
       "      <th>trigliceridemia</th>\n",
       "      <th>metabolico</th>\n",
       "      <th>peso</th>\n",
       "      <th>circunferencia</th>\n",
       "      <th>hiperuricemia</th>\n",
       "      <th>hiperglucemia</th>\n",
       "      <th>dislipidemia</th>\n",
       "      <th>hipertrigliceridemia</th>\n",
       "    </tr>\n",
       "    <tr>\n",
       "      <th>index</th>\n",
       "      <th></th>\n",
       "      <th></th>\n",
       "      <th></th>\n",
       "      <th></th>\n",
       "      <th></th>\n",
       "      <th></th>\n",
       "      <th></th>\n",
       "      <th></th>\n",
       "      <th></th>\n",
       "      <th></th>\n",
       "      <th></th>\n",
       "      <th></th>\n",
       "      <th></th>\n",
       "      <th></th>\n",
       "      <th></th>\n",
       "      <th></th>\n",
       "      <th></th>\n",
       "      <th></th>\n",
       "      <th></th>\n",
       "    </tr>\n",
       "  </thead>\n",
       "  <tbody>\n",
       "    <tr>\n",
       "      <th>0</th>\n",
       "      <td>22</td>\n",
       "      <td>0</td>\n",
       "      <td>0</td>\n",
       "      <td>8200</td>\n",
       "      <td>0</td>\n",
       "      <td>81.0</td>\n",
       "      <td>23.3</td>\n",
       "      <td>3.88</td>\n",
       "      <td>4.9</td>\n",
       "      <td>92.0</td>\n",
       "      <td>41.0</td>\n",
       "      <td>84.0</td>\n",
       "      <td>0</td>\n",
       "      <td>1</td>\n",
       "      <td>0</td>\n",
       "      <td>0</td>\n",
       "      <td>0</td>\n",
       "      <td>1</td>\n",
       "      <td>0</td>\n",
       "    </tr>\n",
       "    <tr>\n",
       "      <th>1</th>\n",
       "      <td>44</td>\n",
       "      <td>1</td>\n",
       "      <td>1</td>\n",
       "      <td>4500</td>\n",
       "      <td>0</td>\n",
       "      <td>80.1</td>\n",
       "      <td>23.2</td>\n",
       "      <td>8.55</td>\n",
       "      <td>4.5</td>\n",
       "      <td>82.0</td>\n",
       "      <td>28.0</td>\n",
       "      <td>56.0</td>\n",
       "      <td>0</td>\n",
       "      <td>1</td>\n",
       "      <td>0</td>\n",
       "      <td>0</td>\n",
       "      <td>0</td>\n",
       "      <td>1</td>\n",
       "      <td>0</td>\n",
       "    </tr>\n",
       "    <tr>\n",
       "      <th>2</th>\n",
       "      <td>21</td>\n",
       "      <td>0</td>\n",
       "      <td>0</td>\n",
       "      <td>800</td>\n",
       "      <td>1</td>\n",
       "      <td>69.6</td>\n",
       "      <td>20.1</td>\n",
       "      <td>5.07</td>\n",
       "      <td>5.4</td>\n",
       "      <td>107.0</td>\n",
       "      <td>43.0</td>\n",
       "      <td>78.0</td>\n",
       "      <td>0</td>\n",
       "      <td>1</td>\n",
       "      <td>0</td>\n",
       "      <td>0</td>\n",
       "      <td>1</td>\n",
       "      <td>1</td>\n",
       "      <td>0</td>\n",
       "    </tr>\n",
       "    <tr>\n",
       "      <th>3</th>\n",
       "      <td>43</td>\n",
       "      <td>1</td>\n",
       "      <td>0</td>\n",
       "      <td>2000</td>\n",
       "      <td>2</td>\n",
       "      <td>120.4</td>\n",
       "      <td>33.3</td>\n",
       "      <td>5.22</td>\n",
       "      <td>5.0</td>\n",
       "      <td>104.0</td>\n",
       "      <td>73.0</td>\n",
       "      <td>141.0</td>\n",
       "      <td>0</td>\n",
       "      <td>3</td>\n",
       "      <td>1</td>\n",
       "      <td>0</td>\n",
       "      <td>1</td>\n",
       "      <td>1</td>\n",
       "      <td>1</td>\n",
       "    </tr>\n",
       "    <tr>\n",
       "      <th>4</th>\n",
       "      <td>51</td>\n",
       "      <td>0</td>\n",
       "      <td>1</td>\n",
       "      <td>4198</td>\n",
       "      <td>1</td>\n",
       "      <td>81.1</td>\n",
       "      <td>20.1</td>\n",
       "      <td>8.13</td>\n",
       "      <td>5.0</td>\n",
       "      <td>95.0</td>\n",
       "      <td>43.0</td>\n",
       "      <td>126.0</td>\n",
       "      <td>0</td>\n",
       "      <td>1</td>\n",
       "      <td>0</td>\n",
       "      <td>0</td>\n",
       "      <td>0</td>\n",
       "      <td>1</td>\n",
       "      <td>1</td>\n",
       "    </tr>\n",
       "  </tbody>\n",
       "</table>\n",
       "</div>"
      ],
      "text/plain": [
       "       edad sexo civil  ingresos raza  abdomen   imc  albumina_creatinina  \\\n",
       "index                                                                       \n",
       "0        22    0     0      8200    0     81.0  23.3                 3.88   \n",
       "1        44    1     1      4500    0     80.1  23.2                 8.55   \n",
       "2        21    0     0       800    1     69.6  20.1                 5.07   \n",
       "3        43    1     0      2000    2    120.4  33.3                 5.22   \n",
       "4        51    0     1      4198    1     81.1  20.1                 8.13   \n",
       "\n",
       "       uricemia  glucemia   hdl  trigliceridemia metabolico peso  \\\n",
       "index                                                              \n",
       "0           4.9      92.0  41.0             84.0          0    1   \n",
       "1           4.5      82.0  28.0             56.0          0    1   \n",
       "2           5.4     107.0  43.0             78.0          0    1   \n",
       "3           5.0     104.0  73.0            141.0          0    3   \n",
       "4           5.0      95.0  43.0            126.0          0    1   \n",
       "\n",
       "      circunferencia hiperuricemia hiperglucemia dislipidemia  \\\n",
       "index                                                           \n",
       "0                  0             0             0            1   \n",
       "1                  0             0             0            1   \n",
       "2                  0             0             1            1   \n",
       "3                  1             0             1            1   \n",
       "4                  0             0             0            1   \n",
       "\n",
       "      hipertrigliceridemia  \n",
       "index                       \n",
       "0                        0  \n",
       "1                        0  \n",
       "2                        0  \n",
       "3                        1  \n",
       "4                        1  "
      ]
     },
     "execution_count": 33,
     "metadata": {},
     "output_type": "execute_result"
    }
   ],
   "source": [
    "df_full.head()"
   ]
  },
  {
   "cell_type": "markdown",
   "metadata": {},
   "source": [
    "## Variables de Interes (Post-Procesadas)\n",
    "- `Edad`: Variable numérica que representa la edad de los individuos en el estudio.\n",
    "- `Sexo`: Variable categórica que indica el género del individuo (por ejemplo, masculino o femenino).\n",
    "- `Civil`: Variable categórica que describe el estado civil de los participantes (soltero, casado, divorciado, etc.).\n",
    "- `Ingresos`: Variable numérica que representa el nivel de ingresos de los participantes.\n",
    "- `Raza`: Variable categórica que indica la raza de los participantes.\n",
    "- `Abdomen`: Variable numérica que mide la circunferencia de la cintura.\n",
    "- `Circunferencia`: Variable categorica que determina la circunferencia abdominal como factor de riesgo para sindrome metabolico.\n",
    "- `BMI` (Índice de Masa Corporal): Variable numérica que calcula el índice de masa corporal.\n",
    "- `Peso`: Variable categórica que mide la categoria de peso segun el Indice de Masa Corporal.\n",
    "- `Uricemia`: Variable numérica que indica los niveles de ácido úrico en la sangre. Altos niveles pueden estar asociados con ciertos riesgos metabólicos.\n",
    "- `Hiperuricemia`: Variable categorica que determina la uricemia en valores fisiologicos anormales.\n",
    "- `Glucemia`: Variable numérica que representa los niveles de glucosa en la sangre.\n",
    "- `Hiperglucemia`: Variable categorica que determina la glucemia en valores fisiologicos anormales.\n",
    "- `HDL` (Colesterol de Alta Densidad): Variable numérica que indica los niveles de colesterol HDL, también conocido como \"colesterol bueno\".\n",
    "- `Dislipidemia`: Variable categorica que determina los valores de c-HDL en valores fisiologicos anormales.*\n",
    "- `Trigliceridemia`: Variable numérica que indica los niveles de triglicéridos en la sangre, un factor de riesgo cardiovascular.\n",
    "- `Hipertrigliceridemia`: Variable categorica que determina la trigliceridemia en valores fisiologicos anormales.\n",
    "- `Metabolico`: Variable binaria que indica la presencia o ausencia del síndrome metabólico. Es la variable objetivo para la predicción en tu modelo."
   ]
  },
  {
   "cell_type": "markdown",
   "metadata": {},
   "source": [
    "### Descripción de los datos cualitativos"
   ]
  },
  {
   "cell_type": "code",
   "execution_count": 34,
   "metadata": {},
   "outputs": [
    {
     "data": {
      "text/html": [
       "<div>\n",
       "<style scoped>\n",
       "    .dataframe tbody tr th:only-of-type {\n",
       "        vertical-align: middle;\n",
       "    }\n",
       "\n",
       "    .dataframe tbody tr th {\n",
       "        vertical-align: top;\n",
       "    }\n",
       "\n",
       "    .dataframe thead th {\n",
       "        text-align: right;\n",
       "    }\n",
       "</style>\n",
       "<table border=\"1\" class=\"dataframe\">\n",
       "  <thead>\n",
       "    <tr style=\"text-align: right;\">\n",
       "      <th></th>\n",
       "      <th>metabolico</th>\n",
       "      <th>peso</th>\n",
       "      <th>circunferencia</th>\n",
       "      <th>hiperuricemia</th>\n",
       "      <th>hiperglucemia</th>\n",
       "      <th>dislipidemia</th>\n",
       "      <th>hipertrigliceridemia</th>\n",
       "      <th>sexo_label</th>\n",
       "      <th>civil_label</th>\n",
       "      <th>raza_label</th>\n",
       "    </tr>\n",
       "  </thead>\n",
       "  <tbody>\n",
       "    <tr>\n",
       "      <th>count</th>\n",
       "      <td>1240</td>\n",
       "      <td>1240</td>\n",
       "      <td>1240</td>\n",
       "      <td>1240</td>\n",
       "      <td>1240</td>\n",
       "      <td>1240</td>\n",
       "      <td>1240</td>\n",
       "      <td>1240</td>\n",
       "      <td>1240</td>\n",
       "      <td>1240</td>\n",
       "    </tr>\n",
       "    <tr>\n",
       "      <th>unique</th>\n",
       "      <td>2</td>\n",
       "      <td>5</td>\n",
       "      <td>2</td>\n",
       "      <td>2</td>\n",
       "      <td>2</td>\n",
       "      <td>1</td>\n",
       "      <td>2</td>\n",
       "      <td>2</td>\n",
       "      <td>5</td>\n",
       "      <td>6</td>\n",
       "    </tr>\n",
       "    <tr>\n",
       "      <th>top</th>\n",
       "      <td>0</td>\n",
       "      <td>2</td>\n",
       "      <td>0</td>\n",
       "      <td>0</td>\n",
       "      <td>0</td>\n",
       "      <td>1</td>\n",
       "      <td>0</td>\n",
       "      <td>Female</td>\n",
       "      <td>Married</td>\n",
       "      <td>White</td>\n",
       "    </tr>\n",
       "    <tr>\n",
       "      <th>freq</th>\n",
       "      <td>941</td>\n",
       "      <td>426</td>\n",
       "      <td>624</td>\n",
       "      <td>940</td>\n",
       "      <td>764</td>\n",
       "      <td>1240</td>\n",
       "      <td>654</td>\n",
       "      <td>634</td>\n",
       "      <td>738</td>\n",
       "      <td>498</td>\n",
       "    </tr>\n",
       "  </tbody>\n",
       "</table>\n",
       "</div>"
      ],
      "text/plain": [
       "        metabolico  peso  circunferencia  hiperuricemia  hiperglucemia  \\\n",
       "count         1240  1240            1240           1240           1240   \n",
       "unique           2     5               2              2              2   \n",
       "top              0     2               0              0              0   \n",
       "freq           941   426             624            940            764   \n",
       "\n",
       "        dislipidemia  hipertrigliceridemia sexo_label civil_label raza_label  \n",
       "count           1240                  1240       1240        1240       1240  \n",
       "unique             1                     2          2           5          6  \n",
       "top                1                     0     Female     Married      White  \n",
       "freq            1240                   654        634         738        498  "
      ]
     },
     "execution_count": 34,
     "metadata": {},
     "output_type": "execute_result"
    }
   ],
   "source": [
    "# Sexo\n",
    "df_full_labelled = pd.merge(df_full, ref_tables['sexo'], on='sexo')\n",
    "# Civil\n",
    "df_full_labelled = pd.merge(df_full_labelled, ref_tables['civil'], on='civil')\n",
    "# Raza\n",
    "df_full_labelled = pd.merge(df_full_labelled, ref_tables['raza'], on='raza')\n",
    "\n",
    "# Categorizando las 'labelled columns'\n",
    "for label in ref_tables.keys():\n",
    "    df_full_labelled[label] = df_full_labelled[label].astype('category')\n",
    "\n",
    "df_full_labelled.drop(['sexo', 'civil', 'raza'], axis=1, inplace=True)\n",
    "df_full_labelled.describe(include=['category', 'object'])"
   ]
  },
  {
   "cell_type": "markdown",
   "metadata": {},
   "source": [
    "----\n",
    "# Machine Learning"
   ]
  },
  {
   "cell_type": "markdown",
   "metadata": {},
   "source": [
    "----\n",
    "## Data Preparation"
   ]
  },
  {
   "cell_type": "code",
   "execution_count": 35,
   "metadata": {},
   "outputs": [],
   "source": [
    "from sklearn.preprocessing import scale"
   ]
  },
  {
   "cell_type": "code",
   "execution_count": 36,
   "metadata": {},
   "outputs": [
    {
     "data": {
      "text/html": [
       "<div>\n",
       "<style scoped>\n",
       "    .dataframe tbody tr th:only-of-type {\n",
       "        vertical-align: middle;\n",
       "    }\n",
       "\n",
       "    .dataframe tbody tr th {\n",
       "        vertical-align: top;\n",
       "    }\n",
       "\n",
       "    .dataframe thead th {\n",
       "        text-align: right;\n",
       "    }\n",
       "</style>\n",
       "<table border=\"1\" class=\"dataframe\">\n",
       "  <thead>\n",
       "    <tr style=\"text-align: right;\">\n",
       "      <th></th>\n",
       "      <th>edad</th>\n",
       "      <th>sexo</th>\n",
       "      <th>civil</th>\n",
       "      <th>ingresos</th>\n",
       "      <th>raza</th>\n",
       "      <th>abdomen</th>\n",
       "      <th>imc</th>\n",
       "      <th>albumina_creatinina</th>\n",
       "      <th>uricemia</th>\n",
       "      <th>glucemia</th>\n",
       "      <th>hdl</th>\n",
       "      <th>trigliceridemia</th>\n",
       "      <th>metabolico</th>\n",
       "    </tr>\n",
       "    <tr>\n",
       "      <th>index</th>\n",
       "      <th></th>\n",
       "      <th></th>\n",
       "      <th></th>\n",
       "      <th></th>\n",
       "      <th></th>\n",
       "      <th></th>\n",
       "      <th></th>\n",
       "      <th></th>\n",
       "      <th></th>\n",
       "      <th></th>\n",
       "      <th></th>\n",
       "      <th></th>\n",
       "      <th></th>\n",
       "    </tr>\n",
       "  </thead>\n",
       "  <tbody>\n",
       "    <tr>\n",
       "      <th>0</th>\n",
       "      <td>22</td>\n",
       "      <td>0</td>\n",
       "      <td>0</td>\n",
       "      <td>8200</td>\n",
       "      <td>0</td>\n",
       "      <td>81.000000</td>\n",
       "      <td>23.3</td>\n",
       "      <td>3.88</td>\n",
       "      <td>4.9</td>\n",
       "      <td>92.0</td>\n",
       "      <td>41.0</td>\n",
       "      <td>84.0</td>\n",
       "      <td>0</td>\n",
       "    </tr>\n",
       "    <tr>\n",
       "      <th>1</th>\n",
       "      <td>44</td>\n",
       "      <td>1</td>\n",
       "      <td>1</td>\n",
       "      <td>4500</td>\n",
       "      <td>0</td>\n",
       "      <td>80.100000</td>\n",
       "      <td>23.2</td>\n",
       "      <td>8.55</td>\n",
       "      <td>4.5</td>\n",
       "      <td>82.0</td>\n",
       "      <td>28.0</td>\n",
       "      <td>56.0</td>\n",
       "      <td>0</td>\n",
       "    </tr>\n",
       "    <tr>\n",
       "      <th>2</th>\n",
       "      <td>21</td>\n",
       "      <td>0</td>\n",
       "      <td>0</td>\n",
       "      <td>800</td>\n",
       "      <td>1</td>\n",
       "      <td>69.600000</td>\n",
       "      <td>20.1</td>\n",
       "      <td>5.07</td>\n",
       "      <td>5.4</td>\n",
       "      <td>107.0</td>\n",
       "      <td>43.0</td>\n",
       "      <td>78.0</td>\n",
       "      <td>0</td>\n",
       "    </tr>\n",
       "    <tr>\n",
       "      <th>3</th>\n",
       "      <td>43</td>\n",
       "      <td>1</td>\n",
       "      <td>0</td>\n",
       "      <td>2000</td>\n",
       "      <td>2</td>\n",
       "      <td>120.400000</td>\n",
       "      <td>33.3</td>\n",
       "      <td>5.22</td>\n",
       "      <td>5.0</td>\n",
       "      <td>104.0</td>\n",
       "      <td>73.0</td>\n",
       "      <td>141.0</td>\n",
       "      <td>0</td>\n",
       "    </tr>\n",
       "    <tr>\n",
       "      <th>4</th>\n",
       "      <td>51</td>\n",
       "      <td>0</td>\n",
       "      <td>1</td>\n",
       "      <td>4198</td>\n",
       "      <td>1</td>\n",
       "      <td>81.100000</td>\n",
       "      <td>20.1</td>\n",
       "      <td>8.13</td>\n",
       "      <td>5.0</td>\n",
       "      <td>95.0</td>\n",
       "      <td>43.0</td>\n",
       "      <td>126.0</td>\n",
       "      <td>0</td>\n",
       "    </tr>\n",
       "    <tr>\n",
       "      <th>...</th>\n",
       "      <td>...</td>\n",
       "      <td>...</td>\n",
       "      <td>...</td>\n",
       "      <td>...</td>\n",
       "      <td>...</td>\n",
       "      <td>...</td>\n",
       "      <td>...</td>\n",
       "      <td>...</td>\n",
       "      <td>...</td>\n",
       "      <td>...</td>\n",
       "      <td>...</td>\n",
       "      <td>...</td>\n",
       "      <td>...</td>\n",
       "    </tr>\n",
       "    <tr>\n",
       "      <th>2395</th>\n",
       "      <td>65</td>\n",
       "      <td>1</td>\n",
       "      <td>1</td>\n",
       "      <td>5400</td>\n",
       "      <td>3</td>\n",
       "      <td>98.500000</td>\n",
       "      <td>29.4</td>\n",
       "      <td>5.51</td>\n",
       "      <td>6.7</td>\n",
       "      <td>114.0</td>\n",
       "      <td>49.0</td>\n",
       "      <td>165.0</td>\n",
       "      <td>1</td>\n",
       "    </tr>\n",
       "    <tr>\n",
       "      <th>2397</th>\n",
       "      <td>30</td>\n",
       "      <td>1</td>\n",
       "      <td>0</td>\n",
       "      <td>2000</td>\n",
       "      <td>1</td>\n",
       "      <td>95.467341</td>\n",
       "      <td>18.0</td>\n",
       "      <td>2.90</td>\n",
       "      <td>7.9</td>\n",
       "      <td>91.0</td>\n",
       "      <td>90.0</td>\n",
       "      <td>91.0</td>\n",
       "      <td>0</td>\n",
       "    </tr>\n",
       "    <tr>\n",
       "      <th>2398</th>\n",
       "      <td>28</td>\n",
       "      <td>0</td>\n",
       "      <td>0</td>\n",
       "      <td>800</td>\n",
       "      <td>3</td>\n",
       "      <td>100.800000</td>\n",
       "      <td>29.4</td>\n",
       "      <td>2.78</td>\n",
       "      <td>6.2</td>\n",
       "      <td>99.0</td>\n",
       "      <td>47.0</td>\n",
       "      <td>84.0</td>\n",
       "      <td>0</td>\n",
       "    </tr>\n",
       "    <tr>\n",
       "      <th>2399</th>\n",
       "      <td>27</td>\n",
       "      <td>0</td>\n",
       "      <td>1</td>\n",
       "      <td>8200</td>\n",
       "      <td>3</td>\n",
       "      <td>106.600000</td>\n",
       "      <td>31.3</td>\n",
       "      <td>4.15</td>\n",
       "      <td>6.2</td>\n",
       "      <td>100.0</td>\n",
       "      <td>41.0</td>\n",
       "      <td>124.0</td>\n",
       "      <td>1</td>\n",
       "    </tr>\n",
       "    <tr>\n",
       "      <th>2400</th>\n",
       "      <td>60</td>\n",
       "      <td>0</td>\n",
       "      <td>0</td>\n",
       "      <td>6200</td>\n",
       "      <td>0</td>\n",
       "      <td>106.600000</td>\n",
       "      <td>27.5</td>\n",
       "      <td>12.82</td>\n",
       "      <td>5.2</td>\n",
       "      <td>91.0</td>\n",
       "      <td>36.0</td>\n",
       "      <td>226.0</td>\n",
       "      <td>1</td>\n",
       "    </tr>\n",
       "  </tbody>\n",
       "</table>\n",
       "<p>1726 rows × 13 columns</p>\n",
       "</div>"
      ],
      "text/plain": [
       "       edad sexo civil  ingresos raza     abdomen   imc  albumina_creatinina  \\\n",
       "index                                                                          \n",
       "0        22    0     0      8200    0   81.000000  23.3                 3.88   \n",
       "1        44    1     1      4500    0   80.100000  23.2                 8.55   \n",
       "2        21    0     0       800    1   69.600000  20.1                 5.07   \n",
       "3        43    1     0      2000    2  120.400000  33.3                 5.22   \n",
       "4        51    0     1      4198    1   81.100000  20.1                 8.13   \n",
       "...     ...  ...   ...       ...  ...         ...   ...                  ...   \n",
       "2395     65    1     1      5400    3   98.500000  29.4                 5.51   \n",
       "2397     30    1     0      2000    1   95.467341  18.0                 2.90   \n",
       "2398     28    0     0       800    3  100.800000  29.4                 2.78   \n",
       "2399     27    0     1      8200    3  106.600000  31.3                 4.15   \n",
       "2400     60    0     0      6200    0  106.600000  27.5                12.82   \n",
       "\n",
       "       uricemia  glucemia   hdl  trigliceridemia metabolico  \n",
       "index                                                        \n",
       "0           4.9      92.0  41.0             84.0          0  \n",
       "1           4.5      82.0  28.0             56.0          0  \n",
       "2           5.4     107.0  43.0             78.0          0  \n",
       "3           5.0     104.0  73.0            141.0          0  \n",
       "4           5.0      95.0  43.0            126.0          0  \n",
       "...         ...       ...   ...              ...        ...  \n",
       "2395        6.7     114.0  49.0            165.0          1  \n",
       "2397        7.9      91.0  90.0             91.0          0  \n",
       "2398        6.2      99.0  47.0             84.0          0  \n",
       "2399        6.2     100.0  41.0            124.0          1  \n",
       "2400        5.2      91.0  36.0            226.0          1  \n",
       "\n",
       "[1726 rows x 13 columns]"
      ]
     },
     "execution_count": 36,
     "metadata": {},
     "output_type": "execute_result"
    }
   ],
   "source": [
    "df_main.set_index('index')"
   ]
  },
  {
   "cell_type": "code",
   "execution_count": 37,
   "metadata": {},
   "outputs": [],
   "source": [
    "# Obteniendo las columnas con variables categoricas: se quito la variable \"metabolico\", ya que sera la variable a predecir \n",
    "categorical_cols = [column for column in df_main.iloc[:, 0:-1] if df_main[column].dtype == 'category']\n",
    "\n",
    "# Creando variables dummy para las columnas categorias\n",
    "dummies = pd.get_dummies(df_main[categorical_cols], dtype=int)\n",
    "df_all_dummies = pd.DataFrame(dummies)\n",
    "\n",
    "# Quitando las variables \"metabolico\", ya que sera la variable a predecir\n",
    "df_dummies = df_all_dummies.iloc[:, 0:-2]"
   ]
  },
  {
   "cell_type": "code",
   "execution_count": 38,
   "metadata": {},
   "outputs": [
    {
     "data": {
      "text/html": [
       "<div>\n",
       "<style scoped>\n",
       "    .dataframe tbody tr th:only-of-type {\n",
       "        vertical-align: middle;\n",
       "    }\n",
       "\n",
       "    .dataframe tbody tr th {\n",
       "        vertical-align: top;\n",
       "    }\n",
       "\n",
       "    .dataframe thead th {\n",
       "        text-align: right;\n",
       "    }\n",
       "</style>\n",
       "<table border=\"1\" class=\"dataframe\">\n",
       "  <thead>\n",
       "    <tr style=\"text-align: right;\">\n",
       "      <th></th>\n",
       "      <th>index</th>\n",
       "      <th>male</th>\n",
       "      <th>female</th>\n",
       "      <th>single</th>\n",
       "      <th>married</th>\n",
       "      <th>widowed</th>\n",
       "      <th>divorced</th>\n",
       "      <th>separated</th>\n",
       "      <th>white</th>\n",
       "      <th>asian</th>\n",
       "      <th>black</th>\n",
       "      <th>mexamerican</th>\n",
       "    </tr>\n",
       "  </thead>\n",
       "  <tbody>\n",
       "    <tr>\n",
       "      <th>0</th>\n",
       "      <td>0</td>\n",
       "      <td>1</td>\n",
       "      <td>0</td>\n",
       "      <td>1</td>\n",
       "      <td>0</td>\n",
       "      <td>0</td>\n",
       "      <td>0</td>\n",
       "      <td>0</td>\n",
       "      <td>1</td>\n",
       "      <td>0</td>\n",
       "      <td>0</td>\n",
       "      <td>0</td>\n",
       "    </tr>\n",
       "    <tr>\n",
       "      <th>1</th>\n",
       "      <td>1</td>\n",
       "      <td>0</td>\n",
       "      <td>1</td>\n",
       "      <td>0</td>\n",
       "      <td>1</td>\n",
       "      <td>0</td>\n",
       "      <td>0</td>\n",
       "      <td>0</td>\n",
       "      <td>1</td>\n",
       "      <td>0</td>\n",
       "      <td>0</td>\n",
       "      <td>0</td>\n",
       "    </tr>\n",
       "    <tr>\n",
       "      <th>2</th>\n",
       "      <td>2</td>\n",
       "      <td>1</td>\n",
       "      <td>0</td>\n",
       "      <td>1</td>\n",
       "      <td>0</td>\n",
       "      <td>0</td>\n",
       "      <td>0</td>\n",
       "      <td>0</td>\n",
       "      <td>0</td>\n",
       "      <td>1</td>\n",
       "      <td>0</td>\n",
       "      <td>0</td>\n",
       "    </tr>\n",
       "  </tbody>\n",
       "</table>\n",
       "</div>"
      ],
      "text/plain": [
       "   index male female single married widowed divorced separated white asian  \\\n",
       "0      0    1      0      1       0       0        0         0     1     0   \n",
       "1      1    0      1      0       1       0        0         0     1     0   \n",
       "2      2    1      0      1       0       0        0         0     0     1   \n",
       "\n",
       "  black mexamerican  \n",
       "0     0           0  \n",
       "1     0           0  \n",
       "2     0           0  "
      ]
     },
     "execution_count": 38,
     "metadata": {},
     "output_type": "execute_result"
    }
   ],
   "source": [
    "# Creando el diccionario de referencias\n",
    "ref_table_dict = dict()\n",
    "\n",
    "# Cargando la información\n",
    "for ref_table_name in ref_tables.keys():\n",
    "    table_dict = {f\"{ref_table_name}_{index}\": label.lower() for index, label in enumerate(ref_tables[ref_table_name][f'{ref_table_name}_label'])}\n",
    "    ref_table_dict.update(table_dict)\n",
    "\n",
    "# Adecuando el nombre de las columnas\n",
    "df_dummies.columns = [ref_table_dict[column] for column in df_dummies.columns]\n",
    "\n",
    "# Categorizando todas las variables\n",
    "for variable in df_dummies.columns:\n",
    "    df_dummies[variable] = df_dummies[variable].astype('category')\n",
    "\n",
    "# Agregando el indice\n",
    "df_dummies.reset_index(inplace=True)\n",
    "\n",
    "# Presentando la nueva tabla\n",
    "df_dummies.head(3)"
   ]
  },
  {
   "cell_type": "code",
   "execution_count": 39,
   "metadata": {},
   "outputs": [],
   "source": [
    "# Escalando las variables numericas\n",
    "numerical_cols = [column for column in df_main.iloc[:, 1:-1] if df_main[column].dtype != 'category']\n",
    "\n",
    "df_main_scaled = pd.DataFrame(scale(df_main[numerical_cols]), columns = numerical_cols)"
   ]
  },
  {
   "cell_type": "code",
   "execution_count": 40,
   "metadata": {},
   "outputs": [],
   "source": [
    "# Creando la tabla preparada final\n",
    "df_prepared = pd.merge(df_dummies, df_main_scaled.reset_index(), on='index')\n",
    "df_prepared = pd.merge(df_prepared, df_main[['index', 'metabolico']], on='index')"
   ]
  },
  {
   "cell_type": "code",
   "execution_count": 41,
   "metadata": {},
   "outputs": [],
   "source": [
    "# Definiendo las variables independientes\n",
    "X = df_prepared.iloc[:, :-1]\n",
    "\n",
    "# Definiendo la variable dependiente\n",
    "y = df_prepared.iloc[:, -1]"
   ]
  },
  {
   "cell_type": "markdown",
   "metadata": {},
   "source": [
    "----\n",
    "## Modelado"
   ]
  },
  {
   "cell_type": "code",
   "execution_count": 42,
   "metadata": {},
   "outputs": [],
   "source": [
    "# Modelado\n",
    "from sklearn.model_selection import train_test_split\n",
    "from sklearn.neighbors import KNeighborsClassifier as knn\n",
    "from sklearn.tree import DecisionTreeClassifier as dt\n",
    "from sklearn.ensemble import RandomForestClassifier as rfc\n",
    "from sklearn.linear_model import LogisticRegression as lr\n",
    "from sklearn.svm import SVC as svm\n",
    "\n",
    "# Metricas\n",
    "from sklearn.metrics import accuracy_score"
   ]
  },
  {
   "cell_type": "code",
   "execution_count": 43,
   "metadata": {},
   "outputs": [],
   "source": [
    "# Definiendo las variables necesarias para la evaluación\n",
    "X_train, X_test, y_train, y_test = train_test_split(X, y, test_size=0.80, shuffle=True)"
   ]
  },
  {
   "cell_type": "markdown",
   "metadata": {},
   "source": [
    "El modelado determina la siguiente segmentación de datos:\n",
    "|Variable|Función|Train|Test|\n",
    "|-|-|-|-|\n",
    "|Independiente (X)|Predictoras|X_train|x_test|\n",
    "|Dependiente (y)|Objetivo|y_train|y_test|\n",
    "|Predecida|Predecidas|p_train|p_test|\n",
    "- Entrenamiento:\n",
    "    - `X_train`: Representa al conjunto de variables a partir de las cuales el modelo  se *entrenara* para *predecir* un resultado, comoparandose con `y_train`.\n",
    "    - `y_train`: Durante el entrenamiento, la variable determinara el objetivo al cual `X_train` debe predecir.\n",
    "- Prueba:\n",
    "    - `X_test`: Representa al conjunto de variables a partir de las cuales el modelo *predecira* un resultado, buscando identificarse con `y_test`. La diferencia con el momento de *entrenamiento* anterior es que `y_test` no estara disponible para el modelo. De esta manera, la prediccion se basa en lo aprendido.\n",
    "    - `y_test`: Es el objetivo del momento de prueba.\n",
    "\n",
    "En otras palabras, `X_train` utilizara `y_train` para encontrar una **relación**. Dicha relación sera usada por `X_test` para predecir `y_test`. En cada caso, entrenamiento y prueba, se generara una nueva variable: `p_train` y `p_test`. Las mismas representan las predicciones del modelo en cada momento."
   ]
  },
  {
   "cell_type": "code",
   "execution_count": 44,
   "metadata": {},
   "outputs": [],
   "source": [
    "# Creando una lista de modelos\n",
    "models = dict()"
   ]
  },
  {
   "cell_type": "markdown",
   "metadata": {},
   "source": [
    "#### K-Neighbors Classifiers"
   ]
  },
  {
   "cell_type": "code",
   "execution_count": 45,
   "metadata": {},
   "outputs": [],
   "source": [
    "# Creando el Modelo: K-Neighbors Classifier\n",
    "model_name = 'K-Neighbors Classifier'\n",
    "knn_model = knn(n_neighbors = 8, metric = 'euclidean')\n",
    "models.update({model_name: knn_model})"
   ]
  },
  {
   "cell_type": "markdown",
   "metadata": {},
   "source": [
    "#### Decision Tree Classifier"
   ]
  },
  {
   "cell_type": "code",
   "execution_count": 46,
   "metadata": {},
   "outputs": [],
   "source": [
    "# Creando el Modelo: Decision Tree Classifier\n",
    "model_name = 'Decision Tree Classifier'\n",
    "dtc_model = dt(max_depth = 4, criterion = 'entropy')\n",
    "models.update({model_name: dtc_model})"
   ]
  },
  {
   "cell_type": "markdown",
   "metadata": {},
   "source": [
    "#### Random Forest Classifier"
   ]
  },
  {
   "cell_type": "code",
   "execution_count": 47,
   "metadata": {},
   "outputs": [],
   "source": [
    "# Creando el Modelo: Random Forest Classifier\n",
    "model_name = 'Random Forest Classifier'\n",
    "rfc_model = rfc()\n",
    "models.update({model_name: rfc_model})"
   ]
  },
  {
   "cell_type": "markdown",
   "metadata": {},
   "source": [
    "#### Logistic Regressor Classifier"
   ]
  },
  {
   "cell_type": "code",
   "execution_count": 48,
   "metadata": {},
   "outputs": [],
   "source": [
    "# Creando el Modelo: Logistic Regressor Classifier\n",
    "model_name = 'Logistic Regressor Classifier'\n",
    "lrm_model = lr()\n",
    "models.update({model_name: rfc_model})"
   ]
  },
  {
   "cell_type": "markdown",
   "metadata": {},
   "source": [
    "#### Support Vector Machine"
   ]
  },
  {
   "cell_type": "code",
   "execution_count": 49,
   "metadata": {},
   "outputs": [],
   "source": [
    "# Creando el Modelo: Support Vector Machine\n",
    "model_name = 'Support Vector Machine'\n",
    "svm_model = svm()\n",
    "models.update({model_name: svm_model})"
   ]
  },
  {
   "cell_type": "code",
   "execution_count": null,
   "metadata": {},
   "outputs": [],
   "source": [
    "# En diccionario se guardara la precisión (accuracy) de cada modelo\n",
    "accuracy = dict()\n",
    "\n",
    "for name, model in models.items():\n",
    "    \n",
    "    # Ajustando cada modelo previamente determinado\n",
    "    model.fit(X_train, y_train)\n",
    "    \n",
    "    # Obteniendo las variables predecidas\n",
    "    p_train = model.predict(X_train)\n",
    "    p_test = model.predict(X_test)\n",
    "\n",
    "    # Guardando los resultados\n",
    "    accuracy.update({name: {'Train': accuracy_score(y_train, p_train), 'Test': accuracy_score(y_test, p_test)}})\n",
    "\n",
    "    accuracy_df = pd.DataFrame(accuracy)"
   ]
  },
  {
   "cell_type": "code",
   "execution_count": 51,
   "metadata": {},
   "outputs": [
    {
     "name": "stdout",
     "output_type": "stream",
     "text": [
      "                                  Train      Test\n",
      "Support Vector Machine         0.758065  0.759073\n",
      "K-Neighbors Classifier         0.758065  0.756048\n",
      "Random Forest Classifier       1.000000  0.756048\n",
      "Logistic Regressor Classifier  1.000000  0.747984\n",
      "Decision Tree Classifier       0.770161  0.662298\n",
      "\n",
      "Mejor rendimiento: 'Support Vector Machine': 0.759073\n"
     ]
    }
   ],
   "source": [
    "# Presentando los resultados\n",
    "print(accuracy_df.T.sort_values('Test', ascending=False))\n",
    "\n",
    "best_model_name = max(accuracy, key=lambda x: accuracy[x]['Test'])\n",
    "best_model_result = max(accuracy.values(), key=lambda x: x['Test'])['Test']\n",
    "\n",
    "print(f\"\\nMejor rendimiento: '{best_model_name}': {best_model_result:.6f}\")"
   ]
  },
  {
   "cell_type": "code",
   "execution_count": 52,
   "metadata": {},
   "outputs": [
    {
     "data": {
      "image/png": "[encoded data removed]",
      "text/plain": [
       "<Figure size 1200x600 with 2 Axes>"
      ]
     },
     "metadata": {},
     "output_type": "display_data"
    }
   ],
   "source": [
    "# Graficos: Accuracy\n",
    "plt.style.use('ggplot')\n",
    "fig, axs = plt.subplots(1, 2, figsize=(12, 6))\n",
    "plt.suptitle('\\nAccuracy', fontsize=20, weight='bold')\n",
    "\n",
    "# Scatter Plot\n",
    "axs[0].set_xlim(0, 1.1); axs[0].set_ylim(0, 1.1)\n",
    "axs[0].set_xlabel('Train Accuracy'); axs[0].set_ylabel('Test Accuracy')\n",
    "axs[0].set_title('Models', fontsize=16, weight='bold')\n",
    "\n",
    "for name, model in accuracy.items():\n",
    "    x = model['Train']\n",
    "    y = model['Test']\n",
    "    axs[0].scatter(x, y, label=name)\n",
    "axs[0].legend()\n",
    "\n",
    "# Lineplot\n",
    "axs[1].set_title('Train vs. Test', fontsize=16, weight='bold')\n",
    "\n",
    "for name, model in accuracy.items():\n",
    "    axs[1].plot(model.keys(), model.values(), label=name)\n",
    "axs[1].legend()\n",
    "\n",
    "# General\n",
    "plt.tight_layout(); plt.show()"
   ]
  },
  {
   "cell_type": "markdown",
   "metadata": {},
   "source": [
    "----\n",
    "## Hypertunning"
   ]
  },
  {
   "cell_type": "code",
   "execution_count": 53,
   "metadata": {},
   "outputs": [],
   "source": [
    "from sklearn.model_selection import GridSearchCV"
   ]
  },
  {
   "cell_type": "markdown",
   "metadata": {},
   "source": [
    "En este punto la pregunta es: cual sera mi criterio para determinar las posibilidades del *hipertunning*?\n",
    "\n",
    "En el caso de parametros **numericos**, 3 opciones:\n",
    "- El minimo posible\n",
    "- El valor por default\n",
    "- El doble del valor por default\n",
    "\n",
    "En el caso de parametros **nominales**, los primeros 3 que mencione la documentacion.\n",
    "\n",
    "Si bien esta decision no tiene ningun respaldo cientifico, mi background no permite nada mas sofisticado."
   ]
  },
  {
   "cell_type": "code",
   "execution_count": 54,
   "metadata": {},
   "outputs": [],
   "source": [
    "# Creando una lista de modelos\n",
    "models_hypertunned = dict()"
   ]
  },
  {
   "cell_type": "markdown",
   "metadata": {},
   "source": [
    "#### K-Neighbors Classifier"
   ]
  },
  {
   "cell_type": "code",
   "execution_count": 55,
   "metadata": {},
   "outputs": [],
   "source": [
    "# Definiendo los parametros de busqueda\n",
    "params_knn = {\n",
    "    'n_neighbors': [1,5,10], \n",
    "    'weights': ['uniform', 'distance'], \n",
    "    'algorithm': ['ball_tree', 'kd_tree', 'brute'],\n",
    "    'leaf_size': [1,30,60],\n",
    "    'metric': ['minkowski', 'euclidean']\n",
    "}"
   ]
  },
  {
   "cell_type": "code",
   "execution_count": 56,
   "metadata": {},
   "outputs": [
    {
     "name": "stdout",
     "output_type": "stream",
     "text": [
      "Fitting 5 folds for each of 108 candidates, totalling 540 fits\n"
     ]
    },
    {
     "data": {
      "text/plain": [
       "{'algorithm': 'ball_tree',\n",
       " 'leaf_size': 1,\n",
       " 'metric': 'minkowski',\n",
       " 'n_neighbors': 10,\n",
       " 'weights': 'uniform'}"
      ]
     },
     "execution_count": 56,
     "metadata": {},
     "output_type": "execute_result"
    }
   ],
   "source": [
    "# Creando el Modelo: K-Neighbors Classifier\n",
    "model_name = 'K-Neighbors Classifier (Hypertunned)'\n",
    "knn_model = knn()\n",
    "\n",
    "# Creando el GridSearchCV\n",
    "grid_knn = GridSearchCV(estimator=knn_model, param_grid=params_knn, scoring='neg_mean_absolute_error', cv=5, verbose=1, n_jobs=1)\n",
    "\n",
    "# Entrenando el modelo\n",
    "grid_knn.fit(X_train, y_train)\n",
    "\n",
    "# Guardando el modelo\n",
    "models_hypertunned.update({model_name: grid_knn})\n",
    "\n",
    "# Devolviendo los mejores parametros encontrados\n",
    "grid_knn.best_params_"
   ]
  },
  {
   "cell_type": "markdown",
   "metadata": {},
   "source": [
    "#### Decision Tree Classifier"
   ]
  },
  {
   "cell_type": "code",
   "execution_count": 57,
   "metadata": {},
   "outputs": [],
   "source": [
    "# Definiendo los parametros de busqueda\n",
    "params_dt = {\n",
    "    'criterion': ['gini', 'entropy', 'log_loss'], \n",
    "    'splitter': ['best', 'random'],\n",
    "    'min_samples_leaf': [1,2]\n",
    "}"
   ]
  },
  {
   "cell_type": "code",
   "execution_count": 58,
   "metadata": {},
   "outputs": [
    {
     "name": "stdout",
     "output_type": "stream",
     "text": [
      "Fitting 5 folds for each of 12 candidates, totalling 60 fits\n"
     ]
    },
    {
     "data": {
      "text/plain": [
       "{'criterion': 'log_loss', 'min_samples_leaf': 2, 'splitter': 'random'}"
      ]
     },
     "execution_count": 58,
     "metadata": {},
     "output_type": "execute_result"
    }
   ],
   "source": [
    "# Creando el Modelo: Decision Tree Classifier\n",
    "model_name = 'Decision Tree Classifier (Hypertunned)'\n",
    "dt_model = dt()\n",
    "\n",
    "# Creando el GridSearchCV\n",
    "grid_dt = GridSearchCV(estimator=dt_model, param_grid=params_dt, scoring='neg_mean_absolute_error', cv=5, verbose=1, n_jobs=1)\n",
    "\n",
    "# Entrenando el modelo\n",
    "grid_dt.fit(X_train, y_train)\n",
    "\n",
    "# Guardando el modelo\n",
    "models_hypertunned.update({model_name: grid_dt})\n",
    "\n",
    "# Devolviendo los mejores parametros encontrados\n",
    "grid_dt.best_params_"
   ]
  },
  {
   "cell_type": "markdown",
   "metadata": {},
   "source": [
    "#### Random Forest Classifier"
   ]
  },
  {
   "cell_type": "code",
   "execution_count": 72,
   "metadata": {},
   "outputs": [],
   "source": [
    "# Definiendo los parametros de busqueda\n",
    "params_rfc = {\n",
    "    'n_estimators': [1,100,200],\n",
    "    'criterion': ['gini', 'entropy', 'log_loss'],\n",
    "    'max_depth': [None,100,200]\n",
    "}"
   ]
  },
  {
   "cell_type": "code",
   "execution_count": 73,
   "metadata": {},
   "outputs": [
    {
     "name": "stdout",
     "output_type": "stream",
     "text": [
      "Fitting 5 folds for each of 27 candidates, totalling 135 fits\n"
     ]
    },
    {
     "data": {
      "text/plain": [
       "{'criterion': 'entropy', 'max_depth': 100, 'n_estimators': 200}"
      ]
     },
     "execution_count": 73,
     "metadata": {},
     "output_type": "execute_result"
    }
   ],
   "source": [
    "# Creando el Modelo: Decision Tree Classifier\n",
    "model_name = 'Random Forest Classifier (Hypertunned)'\n",
    "rfc_model = rfc()\n",
    "\n",
    "# Creando el GridSearchCV\n",
    "grid_rfc = GridSearchCV(estimator=rfc_model, param_grid=params_rfc, scoring='neg_mean_absolute_error', cv=5, verbose=1, n_jobs=1)\n",
    "\n",
    "# Entrenando el modelo\n",
    "grid_rfc.fit(X_train, y_train)\n",
    "\n",
    "# Guardando el modelo\n",
    "models_hypertunned.update({model_name: grid_rfc})\n",
    "\n",
    "# Devolviendo los mejores parametros encontrados\n",
    "grid_rfc.best_params_"
   ]
  },
  {
   "cell_type": "markdown",
   "metadata": {},
   "source": [
    "#### Logistic Regressor Classifier"
   ]
  },
  {
   "cell_type": "code",
   "execution_count": 185,
   "metadata": {},
   "outputs": [],
   "source": [
    "# Definiendo los parametros de busqueda\n",
    "params_lrc = {\n",
    "    'max_iter': [500, 1000],\n",
    "    'penalty': ['l2', None],\n",
    "    'solver': ['lbfgs', 'newton-cg']\n",
    "}"
   ]
  },
  {
   "cell_type": "code",
   "execution_count": 186,
   "metadata": {},
   "outputs": [
    {
     "name": "stdout",
     "output_type": "stream",
     "text": [
      "Fitting 5 folds for each of 8 candidates, totalling 40 fits\n"
     ]
    },
    {
     "data": {
      "text/plain": [
       "{'max_iter': 500, 'penalty': 'l2', 'solver': 'lbfgs'}"
      ]
     },
     "execution_count": 186,
     "metadata": {},
     "output_type": "execute_result"
    }
   ],
   "source": [
    "# Creando el Modelo: Logistic Regressor Classifier\n",
    "model_name = 'Logistic Regressor Classifier (Hypertunned)'\n",
    "lrc_model = lr()\n",
    "\n",
    "# Creando el GridSearchCV\n",
    "grid_lrc = GridSearchCV(estimator=lrc_model, param_grid=params_lrc, scoring='neg_mean_absolute_error', cv=5, verbose=1, n_jobs=1)\n",
    "\n",
    "# Entrenando el modelo\n",
    "grid_lrc.fit(X_train, y_train)\n",
    "\n",
    "# Guardando el modelo\n",
    "models_hypertunned.update({model_name: grid_lrc})\n",
    "\n",
    "# Devolviendo los mejores parametros encontrados\n",
    "grid_lrc.best_params_"
   ]
  },
  {
   "cell_type": "markdown",
   "metadata": {},
   "source": [
    "#### SCV"
   ]
  },
  {
   "cell_type": "code",
   "execution_count": 178,
   "metadata": {},
   "outputs": [],
   "source": [
    "# Definiendo los parametros de busqueda\n",
    "params_svm = {\n",
    "    'C': [0.001, 0.01, 0.1],\n",
    "    'kernel': ['linear', 'poly', 'rbf'],\n",
    "    'shrinking': [True, False],\n",
    "    'probability': [True, False]\n",
    "}"
   ]
  },
  {
   "cell_type": "code",
   "execution_count": 183,
   "metadata": {},
   "outputs": [],
   "source": [
    "# Creando el Modelo: Logistic Regressor Classifier\n",
    "model_name = 'Support Vector Machine (Hypertunned)'\n",
    "svm_model = svm()\n",
    "\n",
    "# Creando el GridSearchCV\n",
    "grid_svm = GridSearchCV(estimator=svm_model, param_grid=params_svm, scoring='neg_mean_absolute_error', cv=5, verbose=1, n_jobs=1)\n",
    "\n",
    "# Entrenando el modelo\n",
    "grid_svm.fit(X_train, y_train)\n",
    "\n",
    "# Guardando el modelo\n",
    "models_hypertunned.update({model_name: grid_svm})\n",
    "\n",
    "# Devolviendo los mejores parametros encontrados\n",
    "grid_svm.best_params_"
   ]
  },
  {
   "cell_type": "markdown",
   "metadata": {},
   "source": [
    "### Resultados"
   ]
  },
  {
   "cell_type": "code",
   "execution_count": 187,
   "metadata": {},
   "outputs": [
    {
     "data": {
      "text/plain": [
       "{'K-Neighbors Classifier (Hypertunned)': GridSearchCV(cv=5, estimator=KNeighborsClassifier(), n_jobs=1,\n",
       "              param_grid={'algorithm': ['ball_tree', 'kd_tree', 'brute'],\n",
       "                          'leaf_size': [1, 30, 60],\n",
       "                          'metric': ['minkowski', 'euclidean'],\n",
       "                          'n_neighbors': [1, 5, 10],\n",
       "                          'weights': ['uniform', 'distance']},\n",
       "              scoring='neg_mean_absolute_error', verbose=1),\n",
       " 'Decision Tree Classifier (Hypertunned)': GridSearchCV(cv=5, estimator=DecisionTreeClassifier(), n_jobs=1,\n",
       "              param_grid={'criterion': ['gini', 'entropy', 'log_loss'],\n",
       "                          'min_samples_leaf': [1, 2],\n",
       "                          'splitter': ['best', 'random']},\n",
       "              scoring='neg_mean_absolute_error', verbose=1),\n",
       " 'Random Forest Classifier (Hypertunned)': GridSearchCV(cv=5, estimator=RandomForestClassifier(), n_jobs=1,\n",
       "              param_grid={'criterion': ['gini', 'entropy', 'log_loss'],\n",
       "                          'max_depth': [None, 100, 200],\n",
       "                          'n_estimators': [1, 100, 200]},\n",
       "              scoring='neg_mean_absolute_error', verbose=1),\n",
       " 'Logistic Regressor Classifier (Hypertunned)': GridSearchCV(cv=5, estimator=LogisticRegression(), n_jobs=1,\n",
       "              param_grid={'max_iter': [500, 1000], 'penalty': ['l2', None],\n",
       "                          'solver': ['lbfgs', 'newton-cg']},\n",
       "              scoring='neg_mean_absolute_error', verbose=1),\n",
       " 'Support Vector Machine (Hypertunned)': GridSearchCV(cv=5, estimator=SVC(), n_jobs=1,\n",
       "              param_grid={'C': [0.001, 0.01, 0.1],\n",
       "                          'kernel': ['linear', 'poly', 'rbf'],\n",
       "                          'probability': [True, False],\n",
       "                          'shrinking': [True, False]},\n",
       "              scoring='neg_mean_absolute_error', verbose=1)}"
      ]
     },
     "execution_count": 187,
     "metadata": {},
     "output_type": "execute_result"
    }
   ],
   "source": [
    "models_hypertunned"
   ]
  },
  {
   "cell_type": "code",
   "execution_count": null,
   "metadata": {},
   "outputs": [],
   "source": [
    "# En diccionario se guardara la precisión (accuracy) de cada modelo\n",
    "accuracy = dict()\n",
    "\n",
    "for name, model in models.items():\n",
    "    \n",
    "    # Ajustando cada modelo previamente determinado\n",
    "    model.fit(X_train, y_train)\n",
    "    \n",
    "    # Obteniendo las variables predecidas\n",
    "    p_train = model.predict(X_train)\n",
    "    p_test = model.predict(X_test)\n",
    "\n",
    "    # Guardando los resultados\n",
    "    accuracy.update({name: {'Train': accuracy_score(y_train, p_train), 'Test': accuracy_score(y_test, p_test)}})\n",
    "\n",
    "    accuracy_df = pd.DataFrame(accuracy)"
   ]
  },
  {
   "cell_type": "code",
   "execution_count": null,
   "metadata": {},
   "outputs": [],
   "source": [
    "# Guardando el mejor modelo\n",
    "file_name = 'best_model.pkl'\n",
    "pickle.dump(models[best_model_name], open(file_name, 'wb'))"
   ]
  }
 ],
 "metadata": {
  "kernelspec": {
   "display_name": "Python 3",
   "language": "python",
   "name": "python3"
  },
  "language_info": {
   "codemirror_mode": {
    "name": "ipython",
    "version": 3
   },
   "file_extension": ".py",
   "mimetype": "text/x-python",
   "name": "python",
   "nbconvert_exporter": "python",
   "pygments_lexer": "ipython3",
   "version": "3.11.4"
  }
 },
 "nbformat": 4,
 "nbformat_minor": 2
}
